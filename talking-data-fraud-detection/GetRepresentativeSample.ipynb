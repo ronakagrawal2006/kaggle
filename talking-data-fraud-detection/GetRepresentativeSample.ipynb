{
 "cells": [
  {
   "cell_type": "code",
   "execution_count": 1,
   "metadata": {},
   "outputs": [
    {
     "name": "stderr",
     "output_type": "stream",
     "text": [
      "/Users/aronak/miniconda3/envs/ml_3_6/lib/python3.5/site-packages/sklearn/cross_validation.py:41: DeprecationWarning: This module was deprecated in version 0.18 in favor of the model_selection module into which all the refactored classes and functions are moved. Also note that the interface of the new CV iterators are different from that of this module. This module will be removed in 0.20.\n",
      "  \"This module will be removed in 0.20.\", DeprecationWarning)\n"
     ]
    }
   ],
   "source": [
    "import pandas as pd\n",
    "import numpy as np\n",
    "from sklearn.cross_validation import train_test_split\n",
    "from sklearn.utils import resample"
   ]
  },
  {
   "cell_type": "code",
   "execution_count": 2,
   "metadata": {},
   "outputs": [],
   "source": [
    "def get_distribution(data):\n",
    "    print(data.value_counts(normalize=True))"
   ]
  },
  {
   "cell_type": "code",
   "execution_count": 3,
   "metadata": {},
   "outputs": [],
   "source": [
    "df=pd.read_csv('representative_sample.csv',parse_dates=['click_time','attributed_time'])"
   ]
  },
  {
   "cell_type": "code",
   "execution_count": 4,
   "metadata": {},
   "outputs": [],
   "source": [
    "def get_downsampled_data(df_majority,df_minority):\n",
    "    df_majority_downsampled = resample(df_majority, \n",
    "                                     replace=False,\n",
    "                                     n_samples=df_minority.shape[0],\n",
    "                                     random_state=1) \n",
    "    df_downsampled = pd.concat([df_majority_downsampled, df_minority])\n",
    "    print(df_downsampled.is_attributed.value_counts())\n",
    "    return df_downsampled\n",
    "    "
   ]
  },
  {
   "cell_type": "code",
   "execution_count": 5,
   "metadata": {},
   "outputs": [
    {
     "name": "stdout",
     "output_type": "stream",
     "text": [
      "1    2489\n",
      "0    2489\n",
      "Name: is_attributed, dtype: int64\n",
      "1    0.5\n",
      "0    0.5\n",
      "Name: is_attributed, dtype: float64\n"
     ]
    }
   ],
   "source": [
    "df_majority = df[df.is_attributed==0]\n",
    "df_minority = df[df.is_attributed==1]\n",
    "df = get_downsampled_data(df_majority,df_minority)\n",
    "get_distribution(df.is_attributed)"
   ]
  },
  {
   "cell_type": "code",
   "execution_count": 6,
   "metadata": {},
   "outputs": [],
   "source": [
    "def get_X_y(df):\n",
    "    y = df.pop('is_attributed')\n",
    "    X = df.drop('attributed_time',axis=1)\n",
    "    return X,y\n",
    "X,y= get_X_y(df)"
   ]
  },
  {
   "cell_type": "code",
   "execution_count": 9,
   "metadata": {},
   "outputs": [],
   "source": [
    "def save_sample(X_train,X_test,y_train, y_test):\n",
    "    X_train.to_csv('X_train.csv')\n",
    "    X_test.to_csv('X_test.csv')\n",
    "    y_train.to_csv('y_train.csv')\n",
    "    y_test.to_csv('y_test.csv')\n",
    "        "
   ]
  },
  {
   "cell_type": "code",
   "execution_count": 10,
   "metadata": {},
   "outputs": [],
   "source": [
    "X_train,X_test,y_train, y_test= train_test_split(X,y,test_size=0.5)\n",
    "save_sample(X_train,X_test,y_train, y_test)"
   ]
  },
  {
   "cell_type": "code",
   "execution_count": null,
   "metadata": {},
   "outputs": [],
   "source": [
    "get_distribution(y_train)"
   ]
  },
  {
   "cell_type": "code",
   "execution_count": null,
   "metadata": {},
   "outputs": [],
   "source": [
    "get_distribution(y_test)"
   ]
  },
  {
   "cell_type": "code",
   "execution_count": 75,
   "metadata": {},
   "outputs": [],
   "source": []
  },
  {
   "cell_type": "code",
   "execution_count": null,
   "metadata": {},
   "outputs": [],
   "source": []
  }
 ],
 "metadata": {
  "kernelspec": {
   "display_name": "Python 3",
   "language": "python",
   "name": "python3"
  },
  "language_info": {
   "codemirror_mode": {
    "name": "ipython",
    "version": 3
   },
   "file_extension": ".py",
   "mimetype": "text/x-python",
   "name": "python",
   "nbconvert_exporter": "python",
   "pygments_lexer": "ipython3",
   "version": "3.5.4"
  }
 },
 "nbformat": 4,
 "nbformat_minor": 2
}
