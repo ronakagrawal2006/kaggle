{
 "cells": [
  {
   "cell_type": "markdown",
   "metadata": {},
   "source": [
    "This notebook deals with creating sample data from train data\n",
    "1. Read Pickel file\n",
    "2. Create sample data frame, write to sample_Data directory\n",
    "3. Start with Features on That Implementation"
   ]
  },
  {
   "cell_type": "code",
   "execution_count": 1,
   "metadata": {},
   "outputs": [],
   "source": [
    "import pandas as pd\n",
    "import datetime\n",
    "import os\n",
    "import gc"
   ]
  },
  {
   "cell_type": "code",
   "execution_count": 2,
   "metadata": {},
   "outputs": [],
   "source": [
    "#FILES\n",
    "TRAIN_FILE_RAW = 'input/train_raw.csv'\n",
    "TEST_FILE_RAW = 'input/test_raw.csv'\n",
    "\n",
    "#EDA CONFIG\n",
    "EDA_CONFIG=True\n",
    "EDA_NROWS = 1000000\n",
    "comment_for_file_name=\"\" #'_'+'comment'"
   ]
  },
  {
   "cell_type": "code",
   "execution_count": 3,
   "metadata": {},
   "outputs": [],
   "source": [
    "def is_train_file(file):\n",
    "    return 'train' in file\n",
    "def get_dtypes(file):\n",
    "    dtypes = {\n",
    "        'ip'            : 'uint32',\n",
    "        'app'           : 'uint16',\n",
    "        'device'        : 'uint16',\n",
    "        'os'            : 'uint16',\n",
    "        'channel'       : 'uint16',\n",
    "        'click_id'      : 'uint32'}\n",
    "    if is_train_file(file):\n",
    "        dtypes['is_attributed']='uint8'\n",
    "    return dtypes\n",
    "def parsed_file_name(raw_file):\n",
    "    return raw_file.replace('raw','parsed'+comment_for_file_name)\n",
    "def parse_raw_file(raw_file):\n",
    "    parsed_file=None\n",
    "    if 'raw' in raw_file:\n",
    "        parsed_file=raw_file.replace('raw','parsed')\n",
    "    else:\n",
    "        print(raw_file,' is not a raw file')\n",
    "        return\n",
    "    if os.path.isfile(parsed_file):\n",
    "        os.remove(parsed_file)\n",
    "        print('deleting old ',parsed_file)\n",
    "        \n",
    "    df = pd.read_csv(raw_file,parse_dates=['click_time'])\n",
    "    print('parsing click_time...')\n",
    "    df['click_time']=pd.to_datetime(df['click_time']) #convert the click_time \n",
    "    print('parsing click_date...')\n",
    "    df['click_date'] = df['click_time'].dt.date\n",
    "    print('parsing hour...')\n",
    "    df['hour'] = pd.to_datetime(df.click_time).dt.hour.astype('uint8')\n",
    "    print('parsing day')\n",
    "    df['day'] = pd.to_datetime(df.click_time).dt.day.astype('uint8')\n",
    "    print('parsing minute')\n",
    "    df['minute'] = pd.to_datetime(df.click_time).dt.minute.astype('uint8')\n",
    "    return df"
   ]
  },
  {
   "cell_type": "code",
   "execution_count": 9,
   "metadata": {},
   "outputs": [],
   "source": [
    "def parse_file(file_name):\n",
    "    if file_name is None:\n",
    "        return 'NO FILE NAME'\n",
    "    print('reading raw file...',file_name)\n",
    "    df_parsed=parse_raw_file(file_name)\n",
    "    print('head of file')\n",
    "    df_parsed.head()\n",
    "    print('writing file',parsed_file_name(file_name))\n",
    "    df_parsed.to_csv(parsed_file_name(file_name),index=False)\n",
    "    return parsed_file_name(file_name),df_parsed"
   ]
  },
  {
   "cell_type": "code",
   "execution_count": 5,
   "metadata": {},
   "outputs": [],
   "source": [
    "def get_sample_filename(file):\n",
    "    return file.replace('parsed','sample'+comment_for_file_name)\n",
    "def get_sample(df_parsed,file):\n",
    "    if(df_parsed) is None or (file is None):\n",
    "        return 'GOT NONE, please assign'\n",
    "    n=None\n",
    "    if EDA_CONFIG:\n",
    "        n=EDA_NROWS\n",
    "        path='eda/'+get_sample_filename(file)\n",
    "    print('sampling...')\n",
    "    df_sample=df_parsed.sample(n=EDA_NROWS)\n",
    "    df_sample_to_write=df_sample.reset_index(drop=True)\n",
    "    print('writing...')\n",
    "    df_sample_to_write.to_csv(path,index=False)\n",
    "    return path,df_sample_to_write"
   ]
  },
  {
   "cell_type": "code",
   "execution_count": 12,
   "metadata": {},
   "outputs": [],
   "source": [
    "###############\n",
    "file= TEST_FILE_RAW #TRAIN_FILE_RAW\n"
   ]
  },
  {
   "cell_type": "code",
   "execution_count": 13,
   "metadata": {},
   "outputs": [
    {
     "name": "stdout",
     "output_type": "stream",
     "text": [
      "reading raw file... input/test_raw.csv\n",
      "deleting old  input/test_parsed.csv\n",
      "parsing click_time...\n",
      "parsing click_date...\n",
      "parsing hour...\n",
      "parsing day\n",
      "parsing minute\n",
      "head of file\n",
      "writing file input/test_parsed.csv\n",
      "sampling...\n",
      "writing...\n",
      "done\n"
     ]
    }
   ],
   "source": [
    "parsed_file,df_parsed = parse_file(file)\n",
    "sample_file,df_sample=get_sample(df_parsed,parsed_file)\n",
    "print('done')"
   ]
  },
  {
   "cell_type": "code",
   "execution_count": 8,
   "metadata": {},
   "outputs": [
    {
     "name": "stdout",
     "output_type": "stream",
     "text": [
      "done\n"
     ]
    }
   ],
   "source": [
    "print('done')"
   ]
  },
  {
   "cell_type": "code",
   "execution_count": 10,
   "metadata": {},
   "outputs": [
    {
     "data": {
      "text/html": [
       "<div>\n",
       "<style scoped>\n",
       "    .dataframe tbody tr th:only-of-type {\n",
       "        vertical-align: middle;\n",
       "    }\n",
       "\n",
       "    .dataframe tbody tr th {\n",
       "        vertical-align: top;\n",
       "    }\n",
       "\n",
       "    .dataframe thead th {\n",
       "        text-align: right;\n",
       "    }\n",
       "</style>\n",
       "<table border=\"1\" class=\"dataframe\">\n",
       "  <thead>\n",
       "    <tr style=\"text-align: right;\">\n",
       "      <th></th>\n",
       "      <th>ip</th>\n",
       "      <th>app</th>\n",
       "      <th>device</th>\n",
       "      <th>os</th>\n",
       "      <th>channel</th>\n",
       "      <th>click_time</th>\n",
       "      <th>attributed_time</th>\n",
       "      <th>is_attributed</th>\n",
       "      <th>click_date</th>\n",
       "      <th>hour</th>\n",
       "      <th>day</th>\n",
       "      <th>minute</th>\n",
       "    </tr>\n",
       "  </thead>\n",
       "  <tbody>\n",
       "    <tr>\n",
       "      <th>0</th>\n",
       "      <td>46371</td>\n",
       "      <td>12</td>\n",
       "      <td>1</td>\n",
       "      <td>14</td>\n",
       "      <td>481</td>\n",
       "      <td>2017-11-08 04:15:09</td>\n",
       "      <td>NaN</td>\n",
       "      <td>0</td>\n",
       "      <td>2017-11-08</td>\n",
       "      <td>4</td>\n",
       "      <td>8</td>\n",
       "      <td>15</td>\n",
       "    </tr>\n",
       "    <tr>\n",
       "      <th>1</th>\n",
       "      <td>46680</td>\n",
       "      <td>11</td>\n",
       "      <td>1</td>\n",
       "      <td>19</td>\n",
       "      <td>325</td>\n",
       "      <td>2017-11-08 11:05:23</td>\n",
       "      <td>NaN</td>\n",
       "      <td>0</td>\n",
       "      <td>2017-11-08</td>\n",
       "      <td>11</td>\n",
       "      <td>8</td>\n",
       "      <td>5</td>\n",
       "    </tr>\n",
       "    <tr>\n",
       "      <th>2</th>\n",
       "      <td>28564</td>\n",
       "      <td>18</td>\n",
       "      <td>1</td>\n",
       "      <td>13</td>\n",
       "      <td>107</td>\n",
       "      <td>2017-11-06 17:35:13</td>\n",
       "      <td>NaN</td>\n",
       "      <td>0</td>\n",
       "      <td>2017-11-06</td>\n",
       "      <td>17</td>\n",
       "      <td>6</td>\n",
       "      <td>35</td>\n",
       "    </tr>\n",
       "    <tr>\n",
       "      <th>3</th>\n",
       "      <td>44527</td>\n",
       "      <td>6</td>\n",
       "      <td>1</td>\n",
       "      <td>15</td>\n",
       "      <td>459</td>\n",
       "      <td>2017-11-08 13:01:18</td>\n",
       "      <td>NaN</td>\n",
       "      <td>0</td>\n",
       "      <td>2017-11-08</td>\n",
       "      <td>13</td>\n",
       "      <td>8</td>\n",
       "      <td>1</td>\n",
       "    </tr>\n",
       "    <tr>\n",
       "      <th>4</th>\n",
       "      <td>12505</td>\n",
       "      <td>2</td>\n",
       "      <td>1</td>\n",
       "      <td>25</td>\n",
       "      <td>452</td>\n",
       "      <td>2017-11-08 06:18:29</td>\n",
       "      <td>NaN</td>\n",
       "      <td>0</td>\n",
       "      <td>2017-11-08</td>\n",
       "      <td>6</td>\n",
       "      <td>8</td>\n",
       "      <td>18</td>\n",
       "    </tr>\n",
       "  </tbody>\n",
       "</table>\n",
       "</div>"
      ],
      "text/plain": [
       "      ip  app  device  os  channel          click_time attributed_time  \\\n",
       "0  46371   12       1  14      481 2017-11-08 04:15:09             NaN   \n",
       "1  46680   11       1  19      325 2017-11-08 11:05:23             NaN   \n",
       "2  28564   18       1  13      107 2017-11-06 17:35:13             NaN   \n",
       "3  44527    6       1  15      459 2017-11-08 13:01:18             NaN   \n",
       "4  12505    2       1  25      452 2017-11-08 06:18:29             NaN   \n",
       "\n",
       "   is_attributed  click_date  hour  day  minute  \n",
       "0              0  2017-11-08     4    8      15  \n",
       "1              0  2017-11-08    11    8       5  \n",
       "2              0  2017-11-06    17    6      35  \n",
       "3              0  2017-11-08    13    8       1  \n",
       "4              0  2017-11-08     6    8      18  "
      ]
     },
     "execution_count": 10,
     "metadata": {},
     "output_type": "execute_result"
    }
   ],
   "source": [
    "df_sample.head()"
   ]
  },
  {
   "cell_type": "code",
   "execution_count": 16,
   "metadata": {},
   "outputs": [
    {
     "data": {
      "text/plain": [
       "array([ 4,  5,  6,  9, 10, 11, 13, 14, 15], dtype=uint64)"
      ]
     },
     "execution_count": 16,
     "metadata": {},
     "output_type": "execute_result"
    }
   ],
   "source": [
    "df_parsed.hour.unique()"
   ]
  },
  {
   "cell_type": "code",
   "execution_count": 17,
   "metadata": {},
   "outputs": [
    {
     "name": "stdout",
     "output_type": "stream",
     "text": [
      "<class 'pandas.core.frame.DataFrame'>\n",
      "RangeIndex: 1000000 entries, 0 to 999999\n",
      "Data columns (total 11 columns):\n",
      "click_id      1000000 non-null int64\n",
      "ip            1000000 non-null int64\n",
      "app           1000000 non-null int64\n",
      "device        1000000 non-null int64\n",
      "os            1000000 non-null int64\n",
      "channel       1000000 non-null int64\n",
      "click_time    1000000 non-null datetime64[ns]\n",
      "click_date    1000000 non-null object\n",
      "hour          1000000 non-null uint8\n",
      "day           1000000 non-null uint8\n",
      "minute        1000000 non-null uint8\n",
      "dtypes: datetime64[ns](1), int64(6), object(1), uint8(3)\n",
      "memory usage: 63.9+ MB\n"
     ]
    }
   ],
   "source": [
    "df_sample.info()"
   ]
  },
  {
   "cell_type": "code",
   "execution_count": 18,
   "metadata": {},
   "outputs": [
    {
     "name": "stdout",
     "output_type": "stream",
     "text": [
      "<class 'pandas.core.frame.DataFrame'>\n",
      "RangeIndex: 18790469 entries, 0 to 18790468\n",
      "Data columns (total 11 columns):\n",
      "click_id      int64\n",
      "ip            int64\n",
      "app           int64\n",
      "device        int64\n",
      "os            int64\n",
      "channel       int64\n",
      "click_time    datetime64[ns]\n",
      "click_date    object\n",
      "hour          uint8\n",
      "day           uint8\n",
      "minute        uint8\n",
      "dtypes: datetime64[ns](1), int64(6), object(1), uint8(3)\n",
      "memory usage: 1.2+ GB\n"
     ]
    }
   ],
   "source": [
    "df_parsed.info()"
   ]
  },
  {
   "cell_type": "code",
   "execution_count": null,
   "metadata": {},
   "outputs": [],
   "source": []
  }
 ],
 "metadata": {
  "kernelspec": {
   "display_name": "Python 3",
   "language": "python",
   "name": "python3"
  },
  "language_info": {
   "codemirror_mode": {
    "name": "ipython",
    "version": 3
   },
   "file_extension": ".py",
   "mimetype": "text/x-python",
   "name": "python",
   "nbconvert_exporter": "python",
   "pygments_lexer": "ipython3",
   "version": "3.5.4"
  }
 },
 "nbformat": 4,
 "nbformat_minor": 2
}
