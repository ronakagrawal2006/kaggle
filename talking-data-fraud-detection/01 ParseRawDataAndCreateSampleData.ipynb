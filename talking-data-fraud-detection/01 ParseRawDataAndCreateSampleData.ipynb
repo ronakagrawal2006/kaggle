{
 "cells": [
  {
   "cell_type": "markdown",
   "metadata": {},
   "source": [
    "This notebook deals with creating sample data from train data\n",
    "1. Read Pickel file\n",
    "2. Create sample data frame, write to sample_Data directory\n",
    "3. Start with Features on That Implementation"
   ]
  },
  {
   "cell_type": "code",
   "execution_count": 1,
   "metadata": {},
   "outputs": [],
   "source": [
    "import pandas as pd\n",
    "import datetime\n",
    "import os\n",
    "import gc"
   ]
  },
  {
   "cell_type": "code",
   "execution_count": 2,
   "metadata": {},
   "outputs": [],
   "source": [
    "#FILES\n",
    "TRAIN_FILE_RAW = 'input/train_raw.csv'\n",
    "TEST_FILE_RAW = 'input/test_raw.csv'\n",
    "\n",
    "#EDA CONFIG\n",
    "EDA_CONFIG=True\n",
    "EDA_NROWS = 1000000\n",
    "comment_for_file_name=\"\" #'_'+'comment'"
   ]
  },
  {
   "cell_type": "code",
   "execution_count": 3,
   "metadata": {},
   "outputs": [],
   "source": [
    "def is_train_file(file):\n",
    "    return 'train' in file\n",
    "def get_dtypes(file):\n",
    "    dtypes = {\n",
    "        'ip'            : 'uint32',\n",
    "        'app'           : 'uint16',\n",
    "        'device'        : 'uint16',\n",
    "        'os'            : 'uint16',\n",
    "        'channel'       : 'uint16',\n",
    "        'click_id'      : 'uint32'}\n",
    "    if is_train_file(file):\n",
    "        dtypes['is_attributed']='uint8'\n",
    "    return dtypes\n",
    "def parsed_file_name(raw_file):\n",
    "    return raw_file.replace('raw','parsed'+comment_for_file_name)\n",
    "def parse_raw_file(raw_file):\n",
    "    parsed_file=None\n",
    "    if 'raw' in raw_file:\n",
    "        parsed_file=raw_file.replace('raw','parsed')\n",
    "    else:\n",
    "        print(raw_file,' is not a raw file')\n",
    "        return\n",
    "    if os.path.isfile(parsed_file):\n",
    "        os.remove(parsed_file)\n",
    "        print('deleting old ',parsed_file)\n",
    "        \n",
    "    df = pd.read_csv(raw_file,parse_dates=['click_time'])\n",
    "    print('parsing click_time...')\n",
    "    df['click_time']=pd.to_datetime(df['click_time']) #convert the click_time \n",
    "    print('parsing click_date...')\n",
    "    df['click_date'] = df['click_time'].dt.date\n",
    "    print('parsing hour...')\n",
    "    df['hour'] = pd.to_datetime(df.click_time).dt.hour.astype('uint8')\n",
    "    print('parsing day')\n",
    "    df['day'] = pd.to_datetime(df.click_time).dt.day.astype('uint8')\n",
    "    print('parsing minute')\n",
    "    df['minute'] = pd.to_datetime(df.click_time).dt.minute.astype('uint8')\n",
    "    return df"
   ]
  },
  {
   "cell_type": "code",
   "execution_count": null,
   "metadata": {},
   "outputs": [],
   "source": [
    "def parse_file(file_name):\n",
    "    if file_name is None:\n",
    "        return 'NO FILE NAME'\n",
    "    print('reading raw file...',file_name)\n",
    "    df_parsed=parse_raw_file(file_name)\n",
    "    print('head of file')\n",
    "    df_parsed.head()\n",
    "    print('writing file',parsed_file_name(file_name))\n",
    "    df_parsed.to_csv(parsed_file_name(file_name),index=False)\n",
    "    return parsed_file_name(file_name),df_parsed"
   ]
  },
  {
   "cell_type": "code",
   "execution_count": 5,
   "metadata": {},
   "outputs": [],
   "source": [
    "def get_sample_filename(file):\n",
    "    return file.replace('parsed','sample'+comment_for_file_name)\n",
    "def get_sample(df_parsed,file):\n",
    "    if(df_parsed) is None or (file is None):\n",
    "        return 'GOT NONE, please assign'\n",
    "    n=None\n",
    "    if EDA_CONFIG:\n",
    "        n=EDA_NROWS\n",
    "        path='eda/'+get_sample_filename(file)\n",
    "    print('sampling...')\n",
    "    df_sample=df_parsed.sample(n=EDA_NROWS)\n",
    "    df_sample_to_write=df_sample.reset_index(drop=True)\n",
    "    print('writing...')\n",
    "    df_sample_to_write.to_csv(path,index=False)\n",
    "    return path,df_sample_to_write"
   ]
  },
  {
   "cell_type": "code",
   "execution_count": 6,
   "metadata": {},
   "outputs": [],
   "source": [
    "###############\n",
    "file=TRAIN_FILE_RAW ##TEST_FILE_RAW #"
   ]
  },
  {
   "cell_type": "code",
   "execution_count": null,
   "metadata": {},
   "outputs": [
    {
     "name": "stdout",
     "output_type": "stream",
     "text": [
      "reading raw file... input/train_raw.csv\n",
      "deleting old  input/train_parsed.csv\n",
      "parsing click_time...\n",
      "parsing click_date...\n",
      "parsing hour...\n",
      "parsing day\n",
      "parsing minute\n",
      "head of file\n",
      "writing file\n"
     ]
    }
   ],
   "source": [
    "parsed_file,df_parsed = parse_file(file)\n",
    "sample_file,df_sample=get_sample(df_parsed,parsed_file)\n",
    "print('done')"
   ]
  },
  {
   "cell_type": "code",
   "execution_count": null,
   "metadata": {},
   "outputs": [],
   "source": [
    "print('done')"
   ]
  },
  {
   "cell_type": "code",
   "execution_count": null,
   "metadata": {},
   "outputs": [],
   "source": []
  }
 ],
 "metadata": {
  "kernelspec": {
   "display_name": "Python 3",
   "language": "python",
   "name": "python3"
  },
  "language_info": {
   "codemirror_mode": {
    "name": "ipython",
    "version": 3
   },
   "file_extension": ".py",
   "mimetype": "text/x-python",
   "name": "python",
   "nbconvert_exporter": "python",
   "pygments_lexer": "ipython3",
   "version": "3.5.4"
  }
 },
 "nbformat": 4,
 "nbformat_minor": 2
}
