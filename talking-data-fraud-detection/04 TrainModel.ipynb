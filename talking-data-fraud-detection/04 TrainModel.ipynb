{
 "cells": [
  {
   "cell_type": "code",
   "execution_count": 111,
   "metadata": {},
   "outputs": [],
   "source": [
    "import pandas as pd\n",
    "from sklearn.model_selection import train_test_split \n",
    "import lightgbm as lgb\n",
    "import gc"
   ]
  },
  {
   "cell_type": "code",
   "execution_count": 122,
   "metadata": {},
   "outputs": [],
   "source": [
    "#FILE\n",
    "model_folder='eda/models/sample_run/'\n",
    "comment='_valid_hr_is_test_hr'\n",
    "model_file='model'+comment\n",
    "model_save=model_folder+model_file\n",
    "metrics_file='eda/metrics.csv'"
   ]
  },
  {
   "cell_type": "code",
   "execution_count": 123,
   "metadata": {},
   "outputs": [],
   "source": [
    "metrics = 'auc'"
   ]
  },
  {
   "cell_type": "code",
   "execution_count": 124,
   "metadata": {},
   "outputs": [],
   "source": [
    "train_feature_file='eda/features/train/all_features.csv'\n",
    "# valid_feature_file='eda/features/train/all_features.csv'\n",
    "valid_feature_file='eda/features/valid/all_features_valid_hr_is_test_hr.csv'"
   ]
  },
  {
   "cell_type": "code",
   "execution_count": 125,
   "metadata": {},
   "outputs": [
    {
     "name": "stdout",
     "output_type": "stream",
     "text": [
      "<class 'pandas.core.frame.DataFrame'>\n",
      "RangeIndex: 659630 entries, 0 to 659629\n",
      "Data columns (total 15 columns):\n",
      "app               659630 non-null int64\n",
      "device            659630 non-null int64\n",
      "os                659630 non-null int64\n",
      "channel           659630 non-null int64\n",
      "is_attributed     659630 non-null int64\n",
      "hour              659630 non-null int64\n",
      "day               659630 non-null int64\n",
      "minute            659630 non-null int64\n",
      "IN_TEST_HH        659630 non-null int64\n",
      "IP_DAY_TEST_HH    659630 non-null int64\n",
      "IP_DAY_HH         659630 non-null int64\n",
      "IP_OS_HH          659630 non-null int64\n",
      "IP_APP_HH         659630 non-null int64\n",
      "IP_APP_OS_HH      659630 non-null int64\n",
      "APP_DAY_HH        659630 non-null int64\n",
      "dtypes: int64(15)\n",
      "memory usage: 75.5 MB\n",
      "None\n",
      "<class 'pandas.core.frame.DataFrame'>\n",
      "RangeIndex: 150531 entries, 0 to 150530\n",
      "Data columns (total 15 columns):\n",
      "app               150531 non-null int64\n",
      "device            150531 non-null int64\n",
      "os                150531 non-null int64\n",
      "channel           150531 non-null int64\n",
      "is_attributed     150531 non-null int64\n",
      "hour              150531 non-null int64\n",
      "day               150531 non-null int64\n",
      "minute            150531 non-null int64\n",
      "IN_TEST_HH        150531 non-null int64\n",
      "IP_DAY_TEST_HH    150531 non-null int64\n",
      "IP_DAY_HH         150531 non-null int64\n",
      "IP_OS_HH          150531 non-null int64\n",
      "IP_APP_HH         150531 non-null int64\n",
      "IP_APP_OS_HH      150531 non-null int64\n",
      "APP_DAY_HH        150531 non-null int64\n",
      "dtypes: int64(15)\n",
      "memory usage: 17.2 MB\n",
      "None\n",
      "train size:  659630\n",
      "valid size:  150531\n"
     ]
    }
   ],
   "source": [
    "train_df=pd.read_csv(train_feature_file,parse_dates=['click_date'])\n",
    "val_df=pd.read_csv(valid_feature_file,parse_dates=['click_date'])\n",
    "train_df=train_df.drop(['ip','click_time', 'attributed_time','click_date'],axis=1)\n",
    "val_df=val_df.drop(['ip','click_time', 'attributed_time','click_date'],axis=1)\n",
    "\n",
    "print(train_df.info())\n",
    "print(val_df.info())\n",
    "\n",
    "print(\"train size: \", len(train_df))\n",
    "print(\"valid size: \", len(val_df))"
   ]
  },
  {
   "cell_type": "code",
   "execution_count": 126,
   "metadata": {},
   "outputs": [],
   "source": [
    "lgb_params = {\n",
    "        'boosting_type': 'gbdt',\n",
    "        'objective': 'binary',\n",
    "        'metric':metrics,\n",
    "        'learning_rate': 0.1,\n",
    "        'num_leaves': 7,  # we should let it be smaller than 2^(max_depth)\n",
    "        'max_depth': 4,  # -1 means no limit\n",
    "        'min_child_samples': 100,  # Minimum number of data need in a child(min_data_in_leaf)\n",
    "        'max_bin': 100,  # Number of bucketed bin for feature values\n",
    "        'subsample': 0.7,  # Subsample ratio of the training instance.\n",
    "        'subsample_freq': 1,  # frequence of subsample, <=0 means no enable\n",
    "        'colsample_bytree': 0.7,  # Subsample ratio of columns when constructing each tree.\n",
    "        'min_child_weight': 0,  # Minimum sum of instance weight(hessian) needed in a child(leaf)\n",
    "        'min_split_gain': 0,  # lambda_l1, lambda_l2 and min_gain_to_split to regularization\n",
    "        'nthread': 4,\n",
    "        'verbose': 0,\n",
    "        'scale_pos_weight':99.7, # because training data is extremely unbalanced \n",
    "        'metric':metrics\n",
    "}\n",
    "target = 'is_attributed'\n",
    "predictors = ['app', 'device', 'os', 'channel', 'hour',\n",
    "       'day', 'IN_TEST_HH', 'IP_DAY_TEST_HH', 'IP_DAY_HH', 'IP_OS_HH',\n",
    "       'IP_APP_HH', 'IP_APP_OS_HH', 'APP_DAY_HH']\n",
    "categorical = ['app', 'device', 'os', 'channel', 'hour','day']\n"
   ]
  },
  {
   "cell_type": "code",
   "execution_count": 127,
   "metadata": {},
   "outputs": [
    {
     "name": "stdout",
     "output_type": "stream",
     "text": [
      "Training...\n"
     ]
    },
    {
     "data": {
      "text/plain": [
       "188"
      ]
     },
     "execution_count": 127,
     "metadata": {},
     "output_type": "execute_result"
    },
    {
     "name": "stdout",
     "output_type": "stream",
     "text": [
      "done...\n"
     ]
    }
   ],
   "source": [
    "VALIDATE = True\n",
    "MAX_ROUNDS = 500\n",
    "EARLY_STOP = 50\n",
    "OPT_ROUNDS = 500\n",
    "print(\"Training...\")\n",
    "\n",
    "num_boost_round=MAX_ROUNDS\n",
    "early_stopping_rounds=EARLY_STOP\n",
    "\n",
    "xgtrain = lgb.Dataset(train_df[predictors].values, label=train_df[target].values,\n",
    "                      feature_name=predictors,\n",
    "                      categorical_feature=categorical\n",
    "                      )\n",
    "del train_df\n",
    "gc.collect()\n",
    "print('done...')"
   ]
  },
  {
   "cell_type": "code",
   "execution_count": 128,
   "metadata": {},
   "outputs": [
    {
     "data": {
      "text/plain": [
       "186"
      ]
     },
     "execution_count": 128,
     "metadata": {},
     "output_type": "execute_result"
    }
   ],
   "source": [
    "xgvalid = lgb.Dataset(val_df[predictors].values, label=val_df[target].values,\n",
    "                      feature_name=predictors,\n",
    "                      categorical_feature=categorical\n",
    "                      )\n",
    "del val_df\n",
    "gc.collect()"
   ]
  },
  {
   "cell_type": "code",
   "execution_count": 129,
   "metadata": {},
   "outputs": [
    {
     "name": "stderr",
     "output_type": "stream",
     "text": [
      "/Users/aronak/miniconda3/envs/ml_3_6/lib/python3.5/site-packages/lightgbm/basic.py:1036: UserWarning: Using categorical_feature in Dataset.\n",
      "  warnings.warn('Using categorical_feature in Dataset.')\n",
      "/Users/aronak/miniconda3/envs/ml_3_6/lib/python3.5/site-packages/lightgbm/basic.py:681: UserWarning: categorical_feature in param dict is overrided.\n",
      "  warnings.warn('categorical_feature in param dict is overrided.')\n"
     ]
    },
    {
     "name": "stdout",
     "output_type": "stream",
     "text": [
      "Training until validation scores don't improve for 50 rounds.\n",
      "[10]\ttrain's auc: 0.960914\tvalid's auc: 0.945332\n",
      "[20]\ttrain's auc: 0.967306\tvalid's auc: 0.948549\n",
      "[30]\ttrain's auc: 0.9724\tvalid's auc: 0.95091\n",
      "[40]\ttrain's auc: 0.975791\tvalid's auc: 0.951592\n",
      "[50]\ttrain's auc: 0.978581\tvalid's auc: 0.952719\n",
      "[60]\ttrain's auc: 0.980794\tvalid's auc: 0.952478\n",
      "[70]\ttrain's auc: 0.982528\tvalid's auc: 0.952318\n",
      "[80]\ttrain's auc: 0.983775\tvalid's auc: 0.951418\n",
      "[90]\ttrain's auc: 0.986026\tvalid's auc: 0.950903\n",
      "Early stopping, best iteration is:\n",
      "[46]\ttrain's auc: 0.977335\tvalid's auc: 0.953036\n",
      "\n",
      "Model Report\n",
      "n_estimators :  46\n",
      "auc: 0.9530360361858687\n"
     ]
    }
   ],
   "source": [
    "evals_results = {}\n",
    "bst = lgb.train(lgb_params, \n",
    "                 xgtrain, \n",
    "                 valid_sets=[xgtrain, xgvalid], \n",
    "                 valid_names=['train','valid'], \n",
    "                 evals_result=evals_results, \n",
    "                 num_boost_round=num_boost_round,\n",
    "                 early_stopping_rounds=early_stopping_rounds,\n",
    "                 verbose_eval=10, \n",
    "                 feval=None)\n",
    "\n",
    "n_estimators = bst.best_iteration\n",
    "bst.save_model(model_save)\n",
    "print(\"\\nModel Report\")\n",
    "print(\"n_estimators : \", n_estimators)\n",
    "print(metrics+\":\", evals_results['valid'][metrics][n_estimators-1])\n",
    "del xgvalid"
   ]
  },
  {
   "cell_type": "code",
   "execution_count": 130,
   "metadata": {},
   "outputs": [],
   "source": [
    "def get_feature_imp(bst):\n",
    "    x=dict(zip(bst.feature_name(),bst.feature_importance()))\n",
    "    import operator\n",
    "    sorted_x = sorted(x.items(), key=operator.itemgetter(1),reverse=True)\n",
    "    return sorted_x"
   ]
  },
  {
   "cell_type": "code",
   "execution_count": 131,
   "metadata": {},
   "outputs": [],
   "source": [
    "import datetime\n",
    "date_time=datetime.datetime.now()\n",
    "train_acc=evals_results['train']['auc'][n_estimators-1]\n",
    "valid_acc=evals_results['valid']['auc'][n_estimators-1]\n",
    "bst_iter=n_estimators\n",
    "feature_imp=get_feature_imp(bst)\n",
    "comment='1M,andys features,specific hours'+comment"
   ]
  },
  {
   "cell_type": "code",
   "execution_count": 132,
   "metadata": {},
   "outputs": [
    {
     "data": {
      "text/html": [
       "<div>\n",
       "<style scoped>\n",
       "    .dataframe tbody tr th:only-of-type {\n",
       "        vertical-align: middle;\n",
       "    }\n",
       "\n",
       "    .dataframe tbody tr th {\n",
       "        vertical-align: top;\n",
       "    }\n",
       "\n",
       "    .dataframe thead th {\n",
       "        text-align: right;\n",
       "    }\n",
       "</style>\n",
       "<table border=\"1\" class=\"dataframe\">\n",
       "  <thead>\n",
       "    <tr style=\"text-align: right;\">\n",
       "      <th></th>\n",
       "      <th>date_time</th>\n",
       "      <th>train_acc</th>\n",
       "      <th>valid_acc</th>\n",
       "      <th>best_iter</th>\n",
       "      <th>cols</th>\n",
       "      <th>model_file</th>\n",
       "      <th>feature_imp</th>\n",
       "      <th>comment</th>\n",
       "      <th>lBSCore</th>\n",
       "    </tr>\n",
       "  </thead>\n",
       "  <tbody>\n",
       "    <tr>\n",
       "      <th>0</th>\n",
       "      <td>2018-04-12 11:53:21.394388</td>\n",
       "      <td>0.977335</td>\n",
       "      <td>0.953036</td>\n",
       "      <td>46</td>\n",
       "      <td>[app, device, os, channel, hour, day, IN_TEST_...</td>\n",
       "      <td>eda/models/sample_run/model_valid_hr_is_test_hr</td>\n",
       "      <td>[(channel, 80), (app, 73), (os, 49), (IP_DAY_T...</td>\n",
       "      <td>1M,andys features,specific hours_valid_hr_is_t...</td>\n",
       "      <td>Unknown</td>\n",
       "    </tr>\n",
       "  </tbody>\n",
       "</table>\n",
       "</div>"
      ],
      "text/plain": [
       "                   date_time  train_acc  valid_acc  best_iter  \\\n",
       "0 2018-04-12 11:53:21.394388   0.977335   0.953036         46   \n",
       "\n",
       "                                                cols  \\\n",
       "0  [app, device, os, channel, hour, day, IN_TEST_...   \n",
       "\n",
       "                                        model_file  \\\n",
       "0  eda/models/sample_run/model_valid_hr_is_test_hr   \n",
       "\n",
       "                                         feature_imp  \\\n",
       "0  [(channel, 80), (app, 73), (os, 49), (IP_DAY_T...   \n",
       "\n",
       "                                             comment  lBSCore  \n",
       "0  1M,andys features,specific hours_valid_hr_is_t...  Unknown  "
      ]
     },
     "execution_count": 132,
     "metadata": {},
     "output_type": "execute_result"
    }
   ],
   "source": [
    "#prepare metrics and see\n",
    "col_list=['date_time','train_acc','valid_acc','best_iter','cols','model_file','feature_imp','comment','lBSCore']\n",
    "curr_data=pd.DataFrame([[date_time,train_acc,valid_acc,bst_iter,predictors,model_save,feature_imp,comment,'Unknown']], columns=col_list)\n",
    "curr_data.head()"
   ]
  },
  {
   "cell_type": "code",
   "execution_count": 133,
   "metadata": {},
   "outputs": [
    {
     "data": {
      "text/html": [
       "<div>\n",
       "<style scoped>\n",
       "    .dataframe tbody tr th:only-of-type {\n",
       "        vertical-align: middle;\n",
       "    }\n",
       "\n",
       "    .dataframe tbody tr th {\n",
       "        vertical-align: top;\n",
       "    }\n",
       "\n",
       "    .dataframe thead th {\n",
       "        text-align: right;\n",
       "    }\n",
       "</style>\n",
       "<table border=\"1\" class=\"dataframe\">\n",
       "  <thead>\n",
       "    <tr style=\"text-align: right;\">\n",
       "      <th></th>\n",
       "      <th>date_time</th>\n",
       "      <th>train_acc</th>\n",
       "      <th>valid_acc</th>\n",
       "      <th>best_iter</th>\n",
       "      <th>cols</th>\n",
       "      <th>comment</th>\n",
       "    </tr>\n",
       "  </thead>\n",
       "  <tbody>\n",
       "    <tr>\n",
       "      <th>0</th>\n",
       "      <td>2018-04-11 18:56:47.435974</td>\n",
       "      <td>0.997562</td>\n",
       "      <td>0.997562</td>\n",
       "      <td>496</td>\n",
       "      <td>['app', 'device', 'os', 'channel', 'hour', 'da...</td>\n",
       "      <td>1M, andys features,specific hours</td>\n",
       "    </tr>\n",
       "  </tbody>\n",
       "</table>\n",
       "</div>"
      ],
      "text/plain": [
       "                    date_time  train_acc  valid_acc  best_iter  \\\n",
       "0  2018-04-11 18:56:47.435974   0.997562   0.997562        496   \n",
       "\n",
       "                                                cols  \\\n",
       "0  ['app', 'device', 'os', 'channel', 'hour', 'da...   \n",
       "\n",
       "                             comment  \n",
       "0  1M, andys features,specific hours  "
      ]
     },
     "execution_count": 133,
     "metadata": {},
     "output_type": "execute_result"
    },
    {
     "data": {
      "text/html": [
       "<div>\n",
       "<style scoped>\n",
       "    .dataframe tbody tr th:only-of-type {\n",
       "        vertical-align: middle;\n",
       "    }\n",
       "\n",
       "    .dataframe tbody tr th {\n",
       "        vertical-align: top;\n",
       "    }\n",
       "\n",
       "    .dataframe thead th {\n",
       "        text-align: right;\n",
       "    }\n",
       "</style>\n",
       "<table border=\"1\" class=\"dataframe\">\n",
       "  <thead>\n",
       "    <tr style=\"text-align: right;\">\n",
       "      <th></th>\n",
       "      <th>best_iter</th>\n",
       "      <th>cols</th>\n",
       "      <th>comment</th>\n",
       "      <th>date_time</th>\n",
       "      <th>feature_imp</th>\n",
       "      <th>lBSCore</th>\n",
       "      <th>model_file</th>\n",
       "      <th>train_acc</th>\n",
       "      <th>valid_acc</th>\n",
       "    </tr>\n",
       "  </thead>\n",
       "  <tbody>\n",
       "    <tr>\n",
       "      <th>0</th>\n",
       "      <td>496</td>\n",
       "      <td>['app', 'device', 'os', 'channel', 'hour', 'da...</td>\n",
       "      <td>1M, andys features,specific hours</td>\n",
       "      <td>2018-04-11 18:56:47.435974</td>\n",
       "      <td>NaN</td>\n",
       "      <td>NaN</td>\n",
       "      <td>NaN</td>\n",
       "      <td>0.997562</td>\n",
       "      <td>0.997562</td>\n",
       "    </tr>\n",
       "    <tr>\n",
       "      <th>0</th>\n",
       "      <td>46</td>\n",
       "      <td>[app, device, os, channel, hour, day, IN_TEST_...</td>\n",
       "      <td>1M,andys features,specific hours_valid_hr_is_t...</td>\n",
       "      <td>2018-04-12 11:53:21.394388</td>\n",
       "      <td>[(channel, 80), (app, 73), (os, 49), (IP_DAY_T...</td>\n",
       "      <td>Unknown</td>\n",
       "      <td>eda/models/sample_run/model_valid_hr_is_test_hr</td>\n",
       "      <td>0.977335</td>\n",
       "      <td>0.953036</td>\n",
       "    </tr>\n",
       "  </tbody>\n",
       "</table>\n",
       "</div>"
      ],
      "text/plain": [
       "   best_iter                                               cols  \\\n",
       "0        496  ['app', 'device', 'os', 'channel', 'hour', 'da...   \n",
       "0         46  [app, device, os, channel, hour, day, IN_TEST_...   \n",
       "\n",
       "                                             comment  \\\n",
       "0                  1M, andys features,specific hours   \n",
       "0  1M,andys features,specific hours_valid_hr_is_t...   \n",
       "\n",
       "                    date_time  \\\n",
       "0  2018-04-11 18:56:47.435974   \n",
       "0  2018-04-12 11:53:21.394388   \n",
       "\n",
       "                                         feature_imp  lBSCore  \\\n",
       "0                                                NaN      NaN   \n",
       "0  [(channel, 80), (app, 73), (os, 49), (IP_DAY_T...  Unknown   \n",
       "\n",
       "                                        model_file  train_acc  valid_acc  \n",
       "0                                              NaN   0.997562   0.997562  \n",
       "0  eda/models/sample_run/model_valid_hr_is_test_hr   0.977335   0.953036  "
      ]
     },
     "execution_count": 133,
     "metadata": {},
     "output_type": "execute_result"
    },
    {
     "name": "stdout",
     "output_type": "stream",
     "text": [
      "records updated\n"
     ]
    },
    {
     "data": {
      "text/plain": [
       "67"
      ]
     },
     "execution_count": 133,
     "metadata": {},
     "output_type": "execute_result"
    }
   ],
   "source": [
    "# ADD to records\n",
    "add_to_records=True\n",
    "log=pd.read_csv(metrics_file)\n",
    "log.head()\n",
    "if(add_to_records):\n",
    "    log.append(curr_data)\n",
    "    log.to_csv(metrics_file,index=False)\n",
    "    print('records updated')\n",
    "gc.collect()\n",
    "#resetCSV\n",
    "# curr_data.to_csv(metrics_file,index=False)\n",
    "# curr_data.head()"
   ]
  },
  {
   "cell_type": "code",
   "execution_count": 134,
   "metadata": {},
   "outputs": [
    {
     "name": "stdout",
     "output_type": "stream",
     "text": [
      "Plot metrics during training...1\n"
     ]
    },
    {
     "data": {
      "image/png": "[encoded data removed]",
      "text/plain": [
       "<Figure size 432x288 with 1 Axes>"
      ]
     },
     "metadata": {},
     "output_type": "display_data"
    }
   ],
   "source": [
    "try:\n",
    "    import matplotlib.pyplot as plt\n",
    "except ImportError:\n",
    "    raise ImportError('You need to install matplotlib for plot_example.py.')\n",
    "\n",
    "print('Plot metrics during training...1')\n",
    "ax = lgb.plot_metric(evals_results)\n",
    "plt.show()"
   ]
  },
  {
   "cell_type": "code",
   "execution_count": 135,
   "metadata": {},
   "outputs": [
    {
     "name": "stdout",
     "output_type": "stream",
     "text": [
      "Plot feature importances...\n"
     ]
    },
    {
     "data": {
      "image/png": "[encoded data removed]",
      "text/plain": [
       "<Figure size 432x288 with 1 Axes>"
      ]
     },
     "metadata": {},
     "output_type": "display_data"
    }
   ],
   "source": [
    "try:\n",
    "    import matplotlib.pyplot as plt\n",
    "except ImportError:\n",
    "    raise ImportError('You need to install matplotlib for plot_example.py.')\n",
    "\n",
    "print('Plot feature importances...')\n",
    "ax = lgb.plot_importance(bst, max_num_features=50)\n",
    "plt.show()"
   ]
  },
  {
   "cell_type": "code",
   "execution_count": null,
   "metadata": {},
   "outputs": [],
   "source": []
  }
 ],
 "metadata": {
  "kernelspec": {
   "display_name": "Python 3",
   "language": "python",
   "name": "python3"
  },
  "language_info": {
   "codemirror_mode": {
    "name": "ipython",
    "version": 3
   },
   "file_extension": ".py",
   "mimetype": "text/x-python",
   "name": "python",
   "nbconvert_exporter": "python",
   "pygments_lexer": "ipython3",
   "version": "3.5.4"
  }
 },
 "nbformat": 4,
 "nbformat_minor": 2
}
