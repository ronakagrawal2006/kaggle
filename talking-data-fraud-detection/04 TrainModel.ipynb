{
 "cells": [
  {
   "cell_type": "code",
   "execution_count": 1,
   "metadata": {},
   "outputs": [],
   "source": [
    "import pandas as pd\n",
    "from sklearn.model_selection import train_test_split \n",
    "import lightgbm as lgb\n",
    "import gc"
   ]
  },
  {
   "cell_type": "code",
   "execution_count": 14,
   "metadata": {},
   "outputs": [],
   "source": [
    "#FILE\n",
    "model_folder='eda/models/sample_run/'\n",
    "model_file='specific_hours'\n",
    "model_save=model_folder+model_file\n",
    "metrics_file='eda/metrics.csv'"
   ]
  },
  {
   "cell_type": "code",
   "execution_count": 2,
   "metadata": {},
   "outputs": [],
   "source": [
    "metrics = 'auc'"
   ]
  },
  {
   "cell_type": "code",
   "execution_count": 3,
   "metadata": {},
   "outputs": [
    {
     "name": "stdout",
     "output_type": "stream",
     "text": [
      "<class 'pandas.core.frame.DataFrame'>\n",
      "RangeIndex: 659779 entries, 0 to 659778\n",
      "Data columns (total 14 columns):\n",
      "app               659779 non-null int64\n",
      "device            659779 non-null int64\n",
      "os                659779 non-null int64\n",
      "channel           659779 non-null int64\n",
      "is_attributed     659779 non-null int64\n",
      "hour              659779 non-null int64\n",
      "day               659779 non-null int64\n",
      "IN_TEST_HH        659779 non-null int64\n",
      "IP_DAY_TEST_HH    659779 non-null int64\n",
      "IP_DAY_HH         659779 non-null int64\n",
      "IP_OS_HH          659779 non-null int64\n",
      "IP_APP_HH         659779 non-null int64\n",
      "IP_APP_OS_HH      659779 non-null int64\n",
      "APP_DAY_HH        659779 non-null int64\n",
      "dtypes: int64(14)\n",
      "memory usage: 70.5 MB\n",
      "None\n",
      "<class 'pandas.core.frame.DataFrame'>\n",
      "RangeIndex: 659779 entries, 0 to 659778\n",
      "Data columns (total 14 columns):\n",
      "app               659779 non-null int64\n",
      "device            659779 non-null int64\n",
      "os                659779 non-null int64\n",
      "channel           659779 non-null int64\n",
      "is_attributed     659779 non-null int64\n",
      "hour              659779 non-null int64\n",
      "day               659779 non-null int64\n",
      "IN_TEST_HH        659779 non-null int64\n",
      "IP_DAY_TEST_HH    659779 non-null int64\n",
      "IP_DAY_HH         659779 non-null int64\n",
      "IP_OS_HH          659779 non-null int64\n",
      "IP_APP_HH         659779 non-null int64\n",
      "IP_APP_OS_HH      659779 non-null int64\n",
      "APP_DAY_HH        659779 non-null int64\n",
      "dtypes: int64(14)\n",
      "memory usage: 70.5 MB\n",
      "None\n",
      "train size:  659779\n",
      "valid size:  659779\n"
     ]
    }
   ],
   "source": [
    "train_df=pd.read_csv('eda/features/train/all_features.csv',parse_dates=['click_date'])\n",
    "val_df=pd.read_csv('eda/features/train/all_features.csv',parse_dates=['click_date'])\n",
    "train_df=train_df.drop(['ip','click_time', 'attributed_time','click_date'],axis=1)\n",
    "val_df=val_df.drop(['ip','click_time', 'attributed_time','click_date'],axis=1)\n",
    "\n",
    "print(train_df.info())\n",
    "print(val_df.info())\n",
    "\n",
    "print(\"train size: \", len(train_df))\n",
    "print(\"valid size: \", len(val_df))"
   ]
  },
  {
   "cell_type": "code",
   "execution_count": 4,
   "metadata": {},
   "outputs": [],
   "source": [
    "lgb_params = {\n",
    "        'boosting_type': 'gbdt',\n",
    "        'objective': 'binary',\n",
    "        'metric':metrics,\n",
    "        'learning_rate': 0.1,\n",
    "        'num_leaves': 7,  # we should let it be smaller than 2^(max_depth)\n",
    "        'max_depth': 4,  # -1 means no limit\n",
    "        'min_child_samples': 100,  # Minimum number of data need in a child(min_data_in_leaf)\n",
    "        'max_bin': 100,  # Number of bucketed bin for feature values\n",
    "        'subsample': 0.7,  # Subsample ratio of the training instance.\n",
    "        'subsample_freq': 1,  # frequence of subsample, <=0 means no enable\n",
    "        'colsample_bytree': 0.7,  # Subsample ratio of columns when constructing each tree.\n",
    "        'min_child_weight': 0,  # Minimum sum of instance weight(hessian) needed in a child(leaf)\n",
    "        'min_split_gain': 0,  # lambda_l1, lambda_l2 and min_gain_to_split to regularization\n",
    "        'nthread': 4,\n",
    "        'verbose': 0,\n",
    "        'scale_pos_weight':99.7, # because training data is extremely unbalanced \n",
    "        'metric':metrics\n",
    "}\n",
    "target = 'is_attributed'\n",
    "predictors = ['app', 'device', 'os', 'channel', 'hour',\n",
    "       'day', 'IN_TEST_HH', 'IP_DAY_TEST_HH', 'IP_DAY_HH', 'IP_OS_HH',\n",
    "       'IP_APP_HH', 'IP_APP_OS_HH', 'APP_DAY_HH']\n",
    "categorical = ['app', 'device', 'os', 'channel', 'hour','day']\n"
   ]
  },
  {
   "cell_type": "code",
   "execution_count": 5,
   "metadata": {},
   "outputs": [
    {
     "name": "stdout",
     "output_type": "stream",
     "text": [
      "Training...\n"
     ]
    },
    {
     "data": {
      "text/plain": [
       "201"
      ]
     },
     "execution_count": 5,
     "metadata": {},
     "output_type": "execute_result"
    },
    {
     "name": "stdout",
     "output_type": "stream",
     "text": [
      "done...\n"
     ]
    }
   ],
   "source": [
    "VALIDATE = True\n",
    "MAX_ROUNDS = 500\n",
    "EARLY_STOP = 50\n",
    "OPT_ROUNDS = 500\n",
    "print(\"Training...\")\n",
    "\n",
    "num_boost_round=MAX_ROUNDS\n",
    "early_stopping_rounds=EARLY_STOP\n",
    "\n",
    "xgtrain = lgb.Dataset(train_df[predictors].values, label=train_df[target].values,\n",
    "                      feature_name=predictors,\n",
    "                      categorical_feature=categorical\n",
    "                      )\n",
    "del train_df\n",
    "gc.collect()\n",
    "print('done...')"
   ]
  },
  {
   "cell_type": "code",
   "execution_count": 6,
   "metadata": {},
   "outputs": [
    {
     "data": {
      "text/plain": [
       "147"
      ]
     },
     "execution_count": 6,
     "metadata": {},
     "output_type": "execute_result"
    }
   ],
   "source": [
    "xgvalid = lgb.Dataset(val_df[predictors].values, label=val_df[target].values,\n",
    "                      feature_name=predictors,\n",
    "                      categorical_feature=categorical\n",
    "                      )\n",
    "del val_df\n",
    "gc.collect()"
   ]
  },
  {
   "cell_type": "code",
   "execution_count": 7,
   "metadata": {},
   "outputs": [
    {
     "name": "stderr",
     "output_type": "stream",
     "text": [
      "/Users/aronak/miniconda3/envs/ml_3_6/lib/python3.5/site-packages/lightgbm/basic.py:1036: UserWarning: Using categorical_feature in Dataset.\n",
      "  warnings.warn('Using categorical_feature in Dataset.')\n",
      "/Users/aronak/miniconda3/envs/ml_3_6/lib/python3.5/site-packages/lightgbm/basic.py:681: UserWarning: categorical_feature in param dict is overrided.\n",
      "  warnings.warn('categorical_feature in param dict is overrided.')\n"
     ]
    },
    {
     "name": "stdout",
     "output_type": "stream",
     "text": [
      "Training until validation scores don't improve for 50 rounds.\n",
      "[10]\ttrain's auc: 0.958679\tvalid's auc: 0.958679\n",
      "[20]\ttrain's auc: 0.970926\tvalid's auc: 0.970926\n",
      "[30]\ttrain's auc: 0.976939\tvalid's auc: 0.976939\n",
      "[40]\ttrain's auc: 0.98202\tvalid's auc: 0.98202\n",
      "[50]\ttrain's auc: 0.984685\tvalid's auc: 0.984685\n",
      "[60]\ttrain's auc: 0.986009\tvalid's auc: 0.986009\n",
      "[70]\ttrain's auc: 0.987583\tvalid's auc: 0.987583\n",
      "[80]\ttrain's auc: 0.988926\tvalid's auc: 0.988926\n",
      "[90]\ttrain's auc: 0.990007\tvalid's auc: 0.990007\n",
      "[100]\ttrain's auc: 0.990857\tvalid's auc: 0.990857\n",
      "[110]\ttrain's auc: 0.991713\tvalid's auc: 0.991713\n",
      "[120]\ttrain's auc: 0.992293\tvalid's auc: 0.992293\n",
      "[130]\ttrain's auc: 0.992828\tvalid's auc: 0.992828\n",
      "[140]\ttrain's auc: 0.993422\tvalid's auc: 0.993422\n",
      "[150]\ttrain's auc: 0.993975\tvalid's auc: 0.993975\n",
      "[160]\ttrain's auc: 0.994316\tvalid's auc: 0.994316\n",
      "[170]\ttrain's auc: 0.994616\tvalid's auc: 0.994616\n",
      "[180]\ttrain's auc: 0.99487\tvalid's auc: 0.99487\n",
      "[190]\ttrain's auc: 0.99509\tvalid's auc: 0.99509\n",
      "[200]\ttrain's auc: 0.995312\tvalid's auc: 0.995312\n",
      "[210]\ttrain's auc: 0.995547\tvalid's auc: 0.995547\n",
      "[220]\ttrain's auc: 0.995656\tvalid's auc: 0.995656\n",
      "[230]\ttrain's auc: 0.995799\tvalid's auc: 0.995799\n",
      "[240]\ttrain's auc: 0.995917\tvalid's auc: 0.995917\n",
      "[250]\ttrain's auc: 0.995983\tvalid's auc: 0.995983\n",
      "[260]\ttrain's auc: 0.996142\tvalid's auc: 0.996142\n",
      "[270]\ttrain's auc: 0.996288\tvalid's auc: 0.996288\n",
      "[280]\ttrain's auc: 0.996409\tvalid's auc: 0.996409\n",
      "[290]\ttrain's auc: 0.99648\tvalid's auc: 0.99648\n",
      "[300]\ttrain's auc: 0.996561\tvalid's auc: 0.996561\n",
      "[310]\ttrain's auc: 0.996626\tvalid's auc: 0.996626\n",
      "[320]\ttrain's auc: 0.996681\tvalid's auc: 0.996681\n",
      "[330]\ttrain's auc: 0.996755\tvalid's auc: 0.996755\n",
      "[340]\ttrain's auc: 0.996843\tvalid's auc: 0.996843\n",
      "[350]\ttrain's auc: 0.996912\tvalid's auc: 0.996912\n",
      "[360]\ttrain's auc: 0.996989\tvalid's auc: 0.996989\n",
      "[370]\ttrain's auc: 0.997029\tvalid's auc: 0.997029\n",
      "[380]\ttrain's auc: 0.99708\tvalid's auc: 0.99708\n",
      "[390]\ttrain's auc: 0.99716\tvalid's auc: 0.99716\n",
      "[400]\ttrain's auc: 0.997211\tvalid's auc: 0.997211\n",
      "[410]\ttrain's auc: 0.997257\tvalid's auc: 0.997257\n",
      "[420]\ttrain's auc: 0.997266\tvalid's auc: 0.997266\n",
      "[430]\ttrain's auc: 0.997301\tvalid's auc: 0.997301\n",
      "[440]\ttrain's auc: 0.997354\tvalid's auc: 0.997354\n",
      "[450]\ttrain's auc: 0.997383\tvalid's auc: 0.997383\n",
      "[460]\ttrain's auc: 0.997444\tvalid's auc: 0.997444\n",
      "[470]\ttrain's auc: 0.997482\tvalid's auc: 0.997482\n",
      "[480]\ttrain's auc: 0.997506\tvalid's auc: 0.997506\n",
      "[490]\ttrain's auc: 0.997545\tvalid's auc: 0.997545\n",
      "[500]\ttrain's auc: 0.99756\tvalid's auc: 0.99756\n",
      "Did not meet early stopping. Best iteration is:\n",
      "[496]\ttrain's auc: 0.997562\tvalid's auc: 0.997562\n"
     ]
    },
    {
     "ename": "NameError",
     "evalue": "name 'c_bst_file' is not defined",
     "output_type": "error",
     "traceback": [
      "\u001b[0;31m----------------------------------------------------------------------\u001b[0m",
      "\u001b[0;31mNameError\u001b[0m                            Traceback (most recent call last)",
      "\u001b[0;32m<ipython-input-7-27da35ecabd4>\u001b[0m in \u001b[0;36m<module>\u001b[0;34m()\u001b[0m\n\u001b[1;32m     11\u001b[0m \u001b[0;34m\u001b[0m\u001b[0m\n\u001b[1;32m     12\u001b[0m \u001b[0mn_estimators\u001b[0m \u001b[0;34m=\u001b[0m \u001b[0mbst\u001b[0m\u001b[0;34m.\u001b[0m\u001b[0mbest_iteration\u001b[0m\u001b[0;34m\u001b[0m\u001b[0m\n\u001b[0;32m---> 13\u001b[0;31m \u001b[0mbst\u001b[0m\u001b[0;34m.\u001b[0m\u001b[0msave_model\u001b[0m\u001b[0;34m(\u001b[0m\u001b[0mc_bst_file\u001b[0m\u001b[0;34m)\u001b[0m\u001b[0;34m\u001b[0m\u001b[0m\n\u001b[0m\u001b[1;32m     14\u001b[0m \u001b[0mprint\u001b[0m\u001b[0;34m(\u001b[0m\u001b[0;34m\"\\nModel Report\"\u001b[0m\u001b[0;34m)\u001b[0m\u001b[0;34m\u001b[0m\u001b[0m\n\u001b[1;32m     15\u001b[0m \u001b[0mprint\u001b[0m\u001b[0;34m(\u001b[0m\u001b[0;34m\"n_estimators : \"\u001b[0m\u001b[0;34m,\u001b[0m \u001b[0mn_estimators\u001b[0m\u001b[0;34m)\u001b[0m\u001b[0;34m\u001b[0m\u001b[0m\n",
      "\u001b[0;31mNameError\u001b[0m: name 'c_bst_file' is not defined"
     ]
    }
   ],
   "source": [
    "evals_results = {}\n",
    "bst = lgb.train(lgb_params, \n",
    "                 xgtrain, \n",
    "                 valid_sets=[xgtrain, xgvalid], \n",
    "                 valid_names=['train','valid'], \n",
    "                 evals_result=evals_results, \n",
    "                 num_boost_round=num_boost_round,\n",
    "                 early_stopping_rounds=early_stopping_rounds,\n",
    "                 verbose_eval=10, \n",
    "                 feval=None)\n",
    "\n",
    "n_estimators = bst.best_iteration\n",
    "bst.save_model(model_save)\n",
    "print(\"\\nModel Report\")\n",
    "print(\"n_estimators : \", n_estimators)\n",
    "print(metrics+\":\", evals_results['valid'][metrics][n_estimators-1])\n",
    "del xgvalid"
   ]
  },
  {
   "cell_type": "code",
   "execution_count": 11,
   "metadata": {},
   "outputs": [],
   "source": [
    "import datetime\n",
    "date_time=datetime.datetime.now()\n",
    "train_acc=evals_results['train']['auc'][n_estimators-1]\n",
    "valid_acc=evals_results['valid']['auc'][n_estimators-1]\n",
    "bst_iter=n_estimators\n",
    "comment='1M, andys features,specific hours'"
   ]
  },
  {
   "cell_type": "code",
   "execution_count": null,
   "metadata": {},
   "outputs": [],
   "source": [
    "#prepare metrics and see\n",
    "col_list=['date_time','train_acc','valid_acc','best_iter','cols','model_file','comment']\n",
    "curr_data=pd.DataFrame([[date_time,train_acc,valid_acc,bst_iter,predictors,model_save,comment]], columns=col_list)\n",
    "curr_data.head()"
   ]
  },
  {
   "cell_type": "code",
   "execution_count": null,
   "metadata": {},
   "outputs": [],
   "source": [
    "# ADD to records\n",
    "add_to_records=False\n",
    "log=pd.read_csv(metrics_file)\n",
    "log.head()\n",
    "if(add_to_records):\n",
    "    log.append(curr_data)\n",
    "    print('records updated')\n",
    "    log.head()\n",
    "    log.to_csv(metrics_file,index=False)\n",
    "gc.collect()\n",
    "#resetCSV\n",
    "# curr_data.to_csv(metrics_file,index=False)\n",
    "# curr_data.head()"
   ]
  },
  {
   "cell_type": "code",
   "execution_count": null,
   "metadata": {},
   "outputs": [],
   "source": []
  }
 ],
 "metadata": {
  "kernelspec": {
   "display_name": "Python 3",
   "language": "python",
   "name": "python3"
  },
  "language_info": {
   "codemirror_mode": {
    "name": "ipython",
    "version": 3
   },
   "file_extension": ".py",
   "mimetype": "text/x-python",
   "name": "python",
   "nbconvert_exporter": "python",
   "pygments_lexer": "ipython3",
   "version": "3.5.4"
  }
 },
 "nbformat": 4,
 "nbformat_minor": 2
}
