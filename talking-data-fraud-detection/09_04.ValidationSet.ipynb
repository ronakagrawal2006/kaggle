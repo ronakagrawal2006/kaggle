{
 "cells": [
  {
   "cell_type": "markdown",
   "metadata": {},
   "source": [
    "The rationale behind getting the validation set is that it(train,validation) should have the same distribution as (train,test)\n",
    "For the current problem we have training from 6-16:00 to 9-1500 in train and 10-4:00 to 10-15 in test sets.\n"
   ]
  },
  {
   "cell_type": "markdown",
   "metadata": {},
   "source": [
    "So to have a match of the LB and a valid Validation set, we can take train as , truncate train from 6-16:00 to "
   ]
  },
  {
   "cell_type": "markdown",
   "metadata": {},
   "source": [
    " train date ranges\n",
    "# min: 06 14:32:21 max: 09 16:00:00"
   ]
  },
  {
   "cell_type": "markdown",
   "metadata": {},
   "source": [
    "# test date ranges\n",
    "# min: 10 04:00:00 max: 10 15:00:00"
   ]
  },
  {
   "cell_type": "markdown",
   "metadata": {},
   "source": [
    "train-validation SPLIT\n",
    "# x0: 2017-11-06 14:32:21 -> 2017-11-08 16:00:00\n",
    "# x1: 2017-11-09 04:00:00 -> 2017-11-09 15:00:00   "
   ]
  },
  {
   "cell_type": "code",
   "execution_count": 3,
   "metadata": {},
   "outputs": [],
   "source": [
    "import pandas as pd\n"
   ]
  },
  {
   "cell_type": "code",
   "execution_count": 4,
   "metadata": {},
   "outputs": [],
   "source": [
    "path='input/'\n",
    "train='train.csv'"
   ]
  },
  {
   "cell_type": "code",
   "execution_count": null,
   "metadata": {},
   "outputs": [],
   "source": [
    "df=pd.read_csv(path+train,parse_dates=['click_time','attributed_time'])"
   ]
  },
  {
   "cell_type": "code",
   "execution_count": null,
   "metadata": {},
   "outputs": [],
   "source": [
    "#identify the dataframe that has the following dates\n",
    "df."
   ]
  }
 ],
 "metadata": {
  "kernelspec": {
   "display_name": "Python 3",
   "language": "python",
   "name": "python3"
  },
  "language_info": {
   "codemirror_mode": {
    "name": "ipython",
    "version": 3
   },
   "file_extension": ".py",
   "mimetype": "text/x-python",
   "name": "python",
   "nbconvert_exporter": "python",
   "pygments_lexer": "ipython3",
   "version": "3.5.4"
  }
 },
 "nbformat": 4,
 "nbformat_minor": 2
}
