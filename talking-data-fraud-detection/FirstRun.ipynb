{
 "cells": [
  {
   "cell_type": "code",
   "execution_count": 16,
   "metadata": {},
   "outputs": [],
   "source": [
    "class Data(object):\n",
    "        def __init__(self):\n",
    "            self._x_train = 'X_train.csv'\n",
    "            self._x_test  = 'X_test.csv'\n",
    "            self._y_train = 'y_train.csv'\n",
    "            self._y_test  = 'y_test.csv'\n",
    "\n",
    "        @property\n",
    "        def x_train_file(self):\n",
    "            return self._x_train\n",
    "\n",
    "        @property\n",
    "        def y_train_file(self):\n",
    "            return self._y_train\n",
    "\n",
    "        @property\n",
    "        def x_test_file(self):\n",
    "            return self._x_test\n",
    "\n",
    "        @property\n",
    "        def y_test_file(self):\n",
    "            return self._y_test\n",
    "        @property\n",
    "        def date_column(self):\n",
    "            return ['click_time']\n",
    "        @property\n",
    "        def test_full(self):\n",
    "            return None\n",
    "\n",
    "data= Data()"
   ]
  },
  {
   "cell_type": "code",
   "execution_count": 2,
   "metadata": {},
   "outputs": [],
   "source": [
    "import pandas as pd"
   ]
  },
  {
   "cell_type": "code",
   "execution_count": 3,
   "metadata": {},
   "outputs": [],
   "source": [
    "def read_data():\n",
    "    X_train= pd.read_csv(data.x_train_file,parse_dates=data.date_column)\n",
    "    X_test = pd.read_csv(data.x_test_file ,parse_dates=data.date_column)\n",
    "    y_train= pd.read_csv(data.y_train_file)\n",
    "    y_test = pd.read_csv(data.y_test_file )           \n",
    "    return X_train,X_test,y_train, y_test"
   ]
  },
  {
   "cell_type": "code",
   "execution_count": 14,
   "metadata": {},
   "outputs": [
    {
     "data": {
      "text/html": [
       "<div>\n",
       "<style scoped>\n",
       "    .dataframe tbody tr th:only-of-type {\n",
       "        vertical-align: middle;\n",
       "    }\n",
       "\n",
       "    .dataframe tbody tr th {\n",
       "        vertical-align: top;\n",
       "    }\n",
       "\n",
       "    .dataframe thead th {\n",
       "        text-align: right;\n",
       "    }\n",
       "</style>\n",
       "<table border=\"1\" class=\"dataframe\">\n",
       "  <thead>\n",
       "    <tr style=\"text-align: right;\">\n",
       "      <th></th>\n",
       "      <th>ip</th>\n",
       "      <th>app</th>\n",
       "      <th>device</th>\n",
       "      <th>os</th>\n",
       "      <th>channel</th>\n",
       "      <th>click_time</th>\n",
       "      <th>is_attributed</th>\n",
       "    </tr>\n",
       "  </thead>\n",
       "  <tbody>\n",
       "    <tr>\n",
       "      <th>0</th>\n",
       "      <td>106857</td>\n",
       "      <td>19</td>\n",
       "      <td>6</td>\n",
       "      <td>29</td>\n",
       "      <td>213</td>\n",
       "      <td>2017-11-07 01:02:24</td>\n",
       "      <td>1</td>\n",
       "    </tr>\n",
       "    <tr>\n",
       "      <th>1</th>\n",
       "      <td>75754</td>\n",
       "      <td>19</td>\n",
       "      <td>1699</td>\n",
       "      <td>24</td>\n",
       "      <td>213</td>\n",
       "      <td>2017-11-08 06:22:48</td>\n",
       "      <td>1</td>\n",
       "    </tr>\n",
       "    <tr>\n",
       "      <th>2</th>\n",
       "      <td>109837</td>\n",
       "      <td>2</td>\n",
       "      <td>1</td>\n",
       "      <td>13</td>\n",
       "      <td>435</td>\n",
       "      <td>2017-11-08 04:00:23</td>\n",
       "      <td>0</td>\n",
       "    </tr>\n",
       "    <tr>\n",
       "      <th>3</th>\n",
       "      <td>248392</td>\n",
       "      <td>19</td>\n",
       "      <td>0</td>\n",
       "      <td>21</td>\n",
       "      <td>213</td>\n",
       "      <td>2017-11-08 15:41:55</td>\n",
       "      <td>1</td>\n",
       "    </tr>\n",
       "    <tr>\n",
       "      <th>4</th>\n",
       "      <td>100212</td>\n",
       "      <td>1</td>\n",
       "      <td>2</td>\n",
       "      <td>49</td>\n",
       "      <td>120</td>\n",
       "      <td>2017-11-09 08:18:11</td>\n",
       "      <td>0</td>\n",
       "    </tr>\n",
       "  </tbody>\n",
       "</table>\n",
       "</div>"
      ],
      "text/plain": [
       "       ip  app  device  os  channel          click_time  is_attributed\n",
       "0  106857   19       6  29      213 2017-11-07 01:02:24              1\n",
       "1   75754   19    1699  24      213 2017-11-08 06:22:48              1\n",
       "2  109837    2       1  13      435 2017-11-08 04:00:23              0\n",
       "3  248392   19       0  21      213 2017-11-08 15:41:55              1\n",
       "4  100212    1       2  49      120 2017-11-09 08:18:11              0"
      ]
     },
     "execution_count": 14,
     "metadata": {},
     "output_type": "execute_result"
    }
   ],
   "source": [
    "X_train_raw,X_test_raw,y_train_raw, y_test_raw = read_data()\n",
    "X_train_raw.head()"
   ]
  },
  {
   "cell_type": "code",
   "execution_count": 5,
   "metadata": {},
   "outputs": [],
   "source": [
    "import datetime\n",
    "def datetime_to_float(a):\n",
    "    d = None\n",
    "    if(isinstance(a, str)):\n",
    "        d=datetime.datetime.strptime(a, \"%Y-%m-%d %H:%M:%S\")\n",
    "    elif(isinstance(a, pd.DatetimeIndex)):\n",
    "        d=a\n",
    "    else:\n",
    "        return 0.0        \n",
    "    epoch = datetime.datetime.utcfromtimestamp(0)\n",
    "    total_seconds =  (d - epoch).total_seconds()\n",
    "    return total_seconds\n",
    "\n",
    "date_transformer = lambda x: datetime_to_float(x)\n",
    "assert(datetime_to_float('2017-11-07 09:35:17') == 1510047317)\n",
    "assert(datetime_to_float(pd.DatetimeIndex([pd.to_datetime('2017-11-07 09:35:17')])) == 1510047317)"
   ]
  },
  {
   "cell_type": "code",
   "execution_count": 6,
   "metadata": {},
   "outputs": [],
   "source": [
    "def preprocess(data):\n",
    "    data['click_time']=data['click_time'].map(date_transformer)\n",
    "    if 'attributed_time' in data.columns:\n",
    "        data['attributed_time']=data['attributed_time'].map(date_transformer)\n",
    "    return data\n"
   ]
  },
  {
   "cell_type": "code",
   "execution_count": 7,
   "metadata": {},
   "outputs": [],
   "source": [
    "X_train=preprocess(X_train_raw)\n",
    "y_train=y_train_raw"
   ]
  },
  {
   "cell_type": "code",
   "execution_count": 8,
   "metadata": {},
   "outputs": [],
   "source": [
    "input_dim=X_train.shape[1]"
   ]
  },
  {
   "cell_type": "code",
   "execution_count": 9,
   "metadata": {},
   "outputs": [],
   "source": [
    "def get_model():\n",
    "    import tensorflow as tf\n",
    "    from keras.models import Sequential\n",
    "    from keras.layers.core import Dense\n",
    "    from keras.layers import Activation\n",
    "    model = Sequential()\n",
    "    model.add(Dense(100, input_dim=input_dim, activation='relu'))\n",
    "    model.add(Dense(70, activation='relu'))\n",
    "    model.add(Dense(35, activation='relu'))\n",
    "    model.add(Dense(17, activation='relu'))\n",
    "    model.add(Dense(8, activation='relu'))\n",
    "    model.add(Dense(1, activation='sigmoid'))\n",
    "    return model"
   ]
  },
  {
   "cell_type": "code",
   "execution_count": 10,
   "metadata": {},
   "outputs": [
    {
     "name": "stderr",
     "output_type": "stream",
     "text": [
      "Using TensorFlow backend.\n"
     ]
    }
   ],
   "source": [
    "model = get_model()"
   ]
  },
  {
   "cell_type": "code",
   "execution_count": 11,
   "metadata": {},
   "outputs": [],
   "source": [
    "model.compile(loss='binary_crossentropy',optimizer='adam', metrics = ['accuracy'])"
   ]
  },
  {
   "cell_type": "code",
   "execution_count": 12,
   "metadata": {},
   "outputs": [
    {
     "data": {
      "text/html": [
       "<div>\n",
       "<style scoped>\n",
       "    .dataframe tbody tr th:only-of-type {\n",
       "        vertical-align: middle;\n",
       "    }\n",
       "\n",
       "    .dataframe tbody tr th {\n",
       "        vertical-align: top;\n",
       "    }\n",
       "\n",
       "    .dataframe thead th {\n",
       "        text-align: right;\n",
       "    }\n",
       "</style>\n",
       "<table border=\"1\" class=\"dataframe\">\n",
       "  <thead>\n",
       "    <tr style=\"text-align: right;\">\n",
       "      <th></th>\n",
       "      <th>is_attributed</th>\n",
       "    </tr>\n",
       "  </thead>\n",
       "  <tbody>\n",
       "    <tr>\n",
       "      <th>0</th>\n",
       "      <td>1</td>\n",
       "    </tr>\n",
       "    <tr>\n",
       "      <th>1</th>\n",
       "      <td>1</td>\n",
       "    </tr>\n",
       "    <tr>\n",
       "      <th>2</th>\n",
       "      <td>0</td>\n",
       "    </tr>\n",
       "    <tr>\n",
       "      <th>3</th>\n",
       "      <td>1</td>\n",
       "    </tr>\n",
       "    <tr>\n",
       "      <th>4</th>\n",
       "      <td>0</td>\n",
       "    </tr>\n",
       "  </tbody>\n",
       "</table>\n",
       "</div>"
      ],
      "text/plain": [
       "   is_attributed\n",
       "0              1\n",
       "1              1\n",
       "2              0\n",
       "3              1\n",
       "4              0"
      ]
     },
     "execution_count": 12,
     "metadata": {},
     "output_type": "execute_result"
    }
   ],
   "source": [
    "y_train.head()"
   ]
  },
  {
   "cell_type": "code",
   "execution_count": 13,
   "metadata": {},
   "outputs": [
    {
     "name": "stdout",
     "output_type": "stream",
     "text": [
      "Epoch 1/2\n",
      "2489/2489 [==============================] - 0s 158us/step - loss: 8.3065 - acc: 0.4841\n",
      "Epoch 2/2\n",
      "2489/2489 [==============================] - 0s 87us/step - loss: 8.2630 - acc: 0.4873\n"
     ]
    },
    {
     "data": {
      "text/plain": [
       "<keras.callbacks.History at 0x111cf1d68>"
      ]
     },
     "execution_count": 13,
     "metadata": {},
     "output_type": "execute_result"
    }
   ],
   "source": [
    "model.fit(X_train,y_train,epochs=2)"
   ]
  },
  {
   "cell_type": "code",
   "execution_count": 15,
   "metadata": {},
   "outputs": [
    {
     "data": {
      "text/plain": [
       "[7.8550622730477357, 0.51265568487037849]"
      ]
     },
     "execution_count": 15,
     "metadata": {},
     "output_type": "execute_result"
    }
   ],
   "source": [
    "def evaluate(X_test_raw,y_test_raw):\n",
    "    X_test=preprocess(X_test_raw)\n",
    "    y_test=y_test_raw\n",
    "    return model.evaluate(X_test, y_test, verbose=0)\n",
    "evaluate(X_test_raw,y_test_raw)"
   ]
  },
  {
   "cell_type": "code",
   "execution_count": null,
   "metadata": {},
   "outputs": [],
   "source": []
  }
 ],
 "metadata": {
  "kernelspec": {
   "display_name": "Python 3",
   "language": "python",
   "name": "python3"
  },
  "language_info": {
   "codemirror_mode": {
    "name": "ipython",
    "version": 3
   },
   "file_extension": ".py",
   "mimetype": "text/x-python",
   "name": "python",
   "nbconvert_exporter": "python",
   "pygments_lexer": "ipython3",
   "version": "3.5.4"
  }
 },
 "nbformat": 4,
 "nbformat_minor": 2
}
