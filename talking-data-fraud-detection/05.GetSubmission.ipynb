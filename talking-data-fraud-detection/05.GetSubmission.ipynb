{
 "cells": [
  {
   "cell_type": "code",
   "execution_count": 1,
   "metadata": {},
   "outputs": [],
   "source": [
    "test_features='eda/features/test/all_features.csv'\n",
    "c_model=''\n",
    "predictors = ['app', 'device', 'os', 'channel', 'hour',\n",
    "       'day', 'IN_TEST_HH', 'IP_DAY_TEST_HH', 'IP_DAY_HH', 'IP_OS_HH',\n",
    "       'IP_APP_HH', 'IP_APP_OS_HH', 'APP_DAY_HH']\n",
    "categorical = ['app', 'device', 'os', 'channel', 'hour','day']"
   ]
  },
  {
   "cell_type": "code",
   "execution_count": 2,
   "metadata": {},
   "outputs": [],
   "source": [
    "import pandas as pd\n",
    "import lightgbm as lgb"
   ]
  },
  {
   "cell_type": "code",
   "execution_count": 7,
   "metadata": {},
   "outputs": [
    {
     "name": "stdout",
     "output_type": "stream",
     "text": [
      "load test...\n",
      "Predicting...\n",
      "writing...\n",
      "done...\n",
      "<class 'pandas.core.frame.DataFrame'>\n",
      "Int64Index: 18790469 entries, 0 to 18790468\n",
      "Data columns (total 2 columns):\n",
      "click_id         uint32\n",
      "is_attributed    float64\n",
      "dtypes: float64(1), uint32(1)\n",
      "memory usage: 358.4 MB\n",
      "None\n"
     ]
    }
   ],
   "source": [
    "print('load test...')\n",
    "test_df=pd.read_csv(test_features)\n",
    "sub = pd.DataFrame()\n",
    "sub['click_id'] = test_df['click_id']\n",
    "\n",
    "print(\"Predicting...\")\n",
    "bst = lgb.Booster(model_file=c_model)\n",
    "sub['is_attributed'] = bst.predict(test_df[predictors])\n",
    "print(\"writing...\")\n",
    "sub.to_csv('sub_lgbm_r_to_python.csv',index=False)\n",
    "print(\"done...\")\n",
    "print(sub.info())"
   ]
  },
  {
   "cell_type": "code",
   "execution_count": 8,
   "metadata": {},
   "outputs": [
    {
     "name": "stdout",
     "output_type": "stream",
     "text": [
      "hi!\n"
     ]
    }
   ],
   "source": [
    "print('hi')"
   ]
  },
  {
   "cell_type": "code",
   "execution_count": null,
   "metadata": {},
   "outputs": [],
   "source": []
  }
 ],
 "metadata": {
  "kernelspec": {
   "display_name": "Python 3",
   "language": "python",
   "name": "python3"
  },
  "language_info": {
   "codemirror_mode": {
    "name": "ipython",
    "version": 3
   },
   "file_extension": ".py",
   "mimetype": "text/x-python",
   "name": "python",
   "nbconvert_exporter": "python",
   "pygments_lexer": "ipython3",
   "version": "3.5.4"
  }
 },
 "nbformat": 4,
 "nbformat_minor": 2
}
