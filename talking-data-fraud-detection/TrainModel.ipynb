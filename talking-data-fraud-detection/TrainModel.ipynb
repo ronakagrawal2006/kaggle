{
 "cells": [
  {
   "cell_type": "code",
   "execution_count": 23,
   "metadata": {},
   "outputs": [],
   "source": [
    "#Constants:\n",
    "c_train_df_prep_file='train_df_prep_file.pkl'\n",
    "c_bst_file='bst.pkl'"
   ]
  },
  {
   "cell_type": "code",
   "execution_count": 24,
   "metadata": {},
   "outputs": [],
   "source": [
    "import pandas as pd\n",
    "from sklearn.model_selection import train_test_split \n",
    "import lightgbm as lgb\n",
    "import gc"
   ]
  },
  {
   "cell_type": "code",
   "execution_count": 25,
   "metadata": {},
   "outputs": [],
   "source": [
    "metrics = 'auc'"
   ]
  },
  {
   "cell_type": "code",
   "execution_count": 26,
   "metadata": {},
   "outputs": [],
   "source": [
    "lgb_params = {\n",
    "        'boosting_type': 'gbdt',\n",
    "        'objective': 'binary',\n",
    "        'metric':metrics,\n",
    "        'learning_rate': 0.1,\n",
    "        'num_leaves': 7,  # we should let it be smaller than 2^(max_depth)\n",
    "        'max_depth': 4,  # -1 means no limit\n",
    "        'min_child_samples': 100,  # Minimum number of data need in a child(min_data_in_leaf)\n",
    "        'max_bin': 100,  # Number of bucketed bin for feature values\n",
    "        'subsample': 0.7,  # Subsample ratio of the training instance.\n",
    "        'subsample_freq': 1,  # frequence of subsample, <=0 means no enable\n",
    "        'colsample_bytree': 0.7,  # Subsample ratio of columns when constructing each tree.\n",
    "        'min_child_weight': 0,  # Minimum sum of instance weight(hessian) needed in a child(leaf)\n",
    "        'min_split_gain': 0,  # lambda_l1, lambda_l2 and min_gain_to_split to regularization\n",
    "        'nthread': 4,\n",
    "        'verbose': 0,\n",
    "        'scale_pos_weight':99.7, # because training data is extremely unbalanced \n",
    "        'metric':metrics\n",
    "}\n",
    "target = 'is_attributed'\n",
    "predictors = ['app','device','os', 'channel', 'hour']#,'nip_day_test_hh', 'nip_day_hh',\n",
    "#               'nip_hh_os', 'nip_hh_app', 'nip_hh_dev'\n",
    "categorical = ['app', 'device', 'os', 'channel', 'hour']"
   ]
  },
  {
   "cell_type": "code",
   "execution_count": 28,
   "metadata": {},
   "outputs": [
    {
     "name": "stdout",
     "output_type": "stream",
     "text": [
      "<class 'pandas.core.frame.DataFrame'>\n",
      "RangeIndex: 750000 entries, 0 to 749999\n",
      "Data columns (total 7 columns):\n",
      "app              750000 non-null uint16\n",
      "device           750000 non-null uint16\n",
      "os               750000 non-null uint16\n",
      "channel          750000 non-null uint16\n",
      "is_attributed    750000 non-null uint8\n",
      "hour             750000 non-null uint8\n",
      "in_test_hh       750000 non-null uint8\n",
      "dtypes: uint16(4), uint8(3)\n",
      "memory usage: 7.9 MB\n",
      "None\n"
     ]
    },
    {
     "ename": "NameError",
     "evalue": "name 'val_df' is not defined",
     "output_type": "error",
     "traceback": [
      "\u001b[0;31m--------------------------------------------------------------------------\u001b[0m",
      "\u001b[0;31mNameError\u001b[0m                                Traceback (most recent call last)",
      "\u001b[0;32m<ipython-input-28-4298e879380b>\u001b[0m in \u001b[0;36m<module>\u001b[0;34m()\u001b[0m\n\u001b[1;32m      3\u001b[0m \u001b[0;34m\u001b[0m\u001b[0m\n\u001b[1;32m      4\u001b[0m \u001b[0mprint\u001b[0m\u001b[0;34m(\u001b[0m\u001b[0mtrain_df\u001b[0m\u001b[0;34m.\u001b[0m\u001b[0minfo\u001b[0m\u001b[0;34m(\u001b[0m\u001b[0;34m)\u001b[0m\u001b[0;34m)\u001b[0m\u001b[0;34m\u001b[0m\u001b[0m\n\u001b[0;32m----> 5\u001b[0;31m \u001b[0mprint\u001b[0m\u001b[0;34m(\u001b[0m\u001b[0mval_df\u001b[0m\u001b[0;34m.\u001b[0m\u001b[0minfo\u001b[0m\u001b[0;34m(\u001b[0m\u001b[0;34m)\u001b[0m\u001b[0;34m)\u001b[0m\u001b[0;34m\u001b[0m\u001b[0m\n\u001b[0m\u001b[1;32m      6\u001b[0m \u001b[0;34m\u001b[0m\u001b[0m\n\u001b[1;32m      7\u001b[0m \u001b[0mprint\u001b[0m\u001b[0;34m(\u001b[0m\u001b[0;34m\"train size: \"\u001b[0m\u001b[0;34m,\u001b[0m \u001b[0mlen\u001b[0m\u001b[0;34m(\u001b[0m\u001b[0mtrain_df\u001b[0m\u001b[0;34m)\u001b[0m\u001b[0;34m)\u001b[0m\u001b[0;34m\u001b[0m\u001b[0m\n",
      "\u001b[0;31mNameError\u001b[0m: name 'val_df' is not defined"
     ]
    }
   ],
   "source": [
    "train_df_prep=pd.read_pickle(c_train_df_prep_file)\n",
    "# train_df, val_df = train_test_split( train_df_prep, train_size=.95, random_state=99, shuffle=True )\n",
    " \n",
    "print(train_df.info())\n",
    "print(val_df.info())\n",
    "\n",
    "print(\"train size: \", len(train_df))\n",
    "print(\"valid size: \", len(val_df))\n",
    "del train_df_prep\n",
    "gc.collect()"
   ]
  },
  {
   "cell_type": "code",
   "execution_count": 29,
   "metadata": {},
   "outputs": [
    {
     "name": "stdout",
     "output_type": "stream",
     "text": [
      "Training...\n",
      "done...\n"
     ]
    }
   ],
   "source": [
    "VALIDATE = True\n",
    "MAX_ROUNDS = 500\n",
    "EARLY_STOP = 50\n",
    "OPT_ROUNDS = 500\n",
    "print(\"Training...\")\n",
    "\n",
    "num_boost_round=MAX_ROUNDS\n",
    "early_stopping_rounds=EARLY_STOP\n",
    "\n",
    "xgtrain = lgb.Dataset(train_df[predictors].values, label=train_df[target].values,\n",
    "                      feature_name=predictors,\n",
    "                      categorical_feature=categorical\n",
    "                      )\n",
    "del train_df\n",
    "gc.collect()\n",
    "print('done...')"
   ]
  },
  {
   "cell_type": "code",
   "execution_count": 20,
   "metadata": {},
   "outputs": [
    {
     "data": {
      "text/plain": [
       "93"
      ]
     },
     "execution_count": 20,
     "metadata": {},
     "output_type": "execute_result"
    }
   ],
   "source": [
    "xgvalid = lgb.Dataset(val_df[predictors].values, label=val_df[target].values,\n",
    "                      feature_name=predictors,\n",
    "                      categorical_feature=categorical\n",
    "                      )\n",
    "del val_df\n",
    "gc.collect()"
   ]
  },
  {
   "cell_type": "code",
   "execution_count": null,
   "metadata": {},
   "outputs": [
    {
     "name": "stderr",
     "output_type": "stream",
     "text": [
      "/home/ubuntu/anaconda3/envs/dog-project/lib/python3.6/site-packages/lightgbm/basic.py:1036: UserWarning: Using categorical_feature in Dataset.\n",
      "  warnings.warn('Using categorical_feature in Dataset.')\n"
     ]
    },
    {
     "name": "stdout",
     "output_type": "stream",
     "text": [
      "Training until validation scores don't improve for 50 rounds.\n",
      "[10]\ttrain's auc: 0.969306\n",
      "[20]\ttrain's auc: 0.971329\n",
      "[30]\ttrain's auc: 0.973831\n",
      "[40]\ttrain's auc: 0.975867\n",
      "[50]\ttrain's auc: 0.977808\n",
      "[60]\ttrain's auc: 0.979183\n",
      "[70]\ttrain's auc: 0.98051\n",
      "[80]\ttrain's auc: 0.981669\n",
      "[90]\ttrain's auc: 0.982714\n",
      "[100]\ttrain's auc: 0.983522\n",
      "[110]\ttrain's auc: 0.984154\n",
      "[120]\ttrain's auc: 0.984661\n",
      "[130]\ttrain's auc: 0.985226\n",
      "[140]\ttrain's auc: 0.985785\n",
      "[150]\ttrain's auc: 0.986102\n",
      "[160]\ttrain's auc: 0.986458\n",
      "[170]\ttrain's auc: 0.986754\n",
      "[180]\ttrain's auc: 0.986853\n",
      "[190]\ttrain's auc: 0.987116\n",
      "[200]\ttrain's auc: 0.987241\n",
      "[210]\ttrain's auc: 0.987399\n",
      "[220]\ttrain's auc: 0.987587\n",
      "[230]\ttrain's auc: 0.987624\n",
      "[240]\ttrain's auc: 0.987685\n",
      "[250]\ttrain's auc: 0.987844\n",
      "[260]\ttrain's auc: 0.988015\n",
      "[270]\ttrain's auc: 0.988137\n",
      "[280]\ttrain's auc: 0.988152\n",
      "[290]\ttrain's auc: 0.988257\n",
      "[300]\ttrain's auc: 0.988235\n",
      "[310]\ttrain's auc: 0.988364\n",
      "[320]\ttrain's auc: 0.988509\n",
      "[330]\ttrain's auc: 0.988499\n",
      "[340]\ttrain's auc: 0.988563\n",
      "[350]\ttrain's auc: 0.988634\n",
      "[360]\ttrain's auc: 0.98872\n",
      "[370]\ttrain's auc: 0.988772\n",
      "[380]\ttrain's auc: 0.988787\n",
      "[390]\ttrain's auc: 0.98882\n",
      "[400]\ttrain's auc: 0.988828\n",
      "[410]\ttrain's auc: 0.98886\n",
      "[420]\ttrain's auc: 0.988854\n",
      "[430]\ttrain's auc: 0.988916\n",
      "[440]\ttrain's auc: 0.988921\n",
      "[450]\ttrain's auc: 0.988955\n",
      "[460]\ttrain's auc: 0.988998\n",
      "[470]\ttrain's auc: 0.989046\n",
      "[480]\ttrain's auc: 0.989037\n",
      "[490]\ttrain's auc: 0.989104\n",
      "[500]\ttrain's auc: 0.9891\n",
      "Did not meet early stopping. Best iteration is:\n",
      "[490]\ttrain's auc: 0.989104\n",
      "\n",
      "Model Report\n",
      "n_estimators :  490\n"
     ]
    }
   ],
   "source": [
    "evals_results = {}\n",
    "bst = lgb.train(lgb_params, \n",
    "                 xgtrain, \n",
    "                 valid_sets=[xgtrain], \n",
    "                 valid_names=['train'], \n",
    "                 evals_result=evals_results, \n",
    "                 num_boost_round=num_boost_round,\n",
    "                 early_stopping_rounds=early_stopping_rounds,\n",
    "                 verbose_eval=10, \n",
    "                 feval=None)\n",
    "\n",
    "n_estimators = bst.best_iteration\n",
    "bst.save_model(c_bst_file)\n",
    "print(\"\\nModel Report\")\n",
    "print(\"n_estimators : \", n_estimators)\n",
    "# print(metrics+\":\", evals_results['valid'][metrics][n_estimators-1])\n",
    "# del xgvalid"
   ]
  },
  {
   "cell_type": "code",
   "execution_count": 21,
   "metadata": {},
   "outputs": [
    {
     "name": "stderr",
     "output_type": "stream",
     "text": [
      "/home/ubuntu/anaconda3/envs/dog-project/lib/python3.6/site-packages/lightgbm/basic.py:1036: UserWarning: Using categorical_feature in Dataset.\n",
      "  warnings.warn('Using categorical_feature in Dataset.')\n",
      "/home/ubuntu/anaconda3/envs/dog-project/lib/python3.6/site-packages/lightgbm/basic.py:681: UserWarning: categorical_feature in param dict is overrided.\n",
      "  warnings.warn('categorical_feature in param dict is overrided.')\n"
     ]
    },
    {
     "name": "stdout",
     "output_type": "stream",
     "text": [
      "Training until validation scores don't improve for 50 rounds.\n",
      "[10]\ttrain's auc: 0.969211\tvalid's auc: 0.950359\n",
      "[20]\ttrain's auc: 0.971378\tvalid's auc: 0.955819\n",
      "[30]\ttrain's auc: 0.97418\tvalid's auc: 0.964316\n",
      "[40]\ttrain's auc: 0.976882\tvalid's auc: 0.964807\n",
      "[50]\ttrain's auc: 0.978825\tvalid's auc: 0.966639\n",
      "[60]\ttrain's auc: 0.980549\tvalid's auc: 0.962793\n",
      "[70]\ttrain's auc: 0.981846\tvalid's auc: 0.965478\n",
      "[80]\ttrain's auc: 0.982939\tvalid's auc: 0.963937\n",
      "[90]\ttrain's auc: 0.98364\tvalid's auc: 0.963965\n",
      "[100]\ttrain's auc: 0.984318\tvalid's auc: 0.965378\n",
      "Early stopping, best iteration is:\n",
      "[50]\ttrain's auc: 0.978825\tvalid's auc: 0.966639\n",
      "\n",
      "Model Report\n",
      "n_estimators :  50\n",
      "auc: 0.9666387484993704\n"
     ]
    }
   ],
   "source": [
    "evals_results = {}\n",
    "bst = lgb.train(lgb_params, \n",
    "                 xgtrain, \n",
    "                 valid_sets=[xgtrain, xgvalid], \n",
    "                 valid_names=['train','valid'], \n",
    "                 evals_result=evals_results, \n",
    "                 num_boost_round=num_boost_round,\n",
    "                 early_stopping_rounds=early_stopping_rounds,\n",
    "                 verbose_eval=10, \n",
    "                 feval=None)\n",
    "\n",
    "n_estimators = bst.best_iteration\n",
    "bst.save_model(c_bst_file)\n",
    "print(\"\\nModel Report\")\n",
    "print(\"n_estimators : \", n_estimators)\n",
    "print(metrics+\":\", evals_results['valid'][metrics][n_estimators-1])\n",
    "del xgvalid"
   ]
  },
  {
   "cell_type": "code",
   "execution_count": null,
   "metadata": {},
   "outputs": [],
   "source": []
  },
  {
   "cell_type": "code",
   "execution_count": null,
   "metadata": {},
   "outputs": [],
   "source": []
  }
 ],
 "metadata": {
  "kernelspec": {
   "display_name": "Python 3",
   "language": "python",
   "name": "python3"
  },
  "language_info": {
   "codemirror_mode": {
    "name": "ipython",
    "version": 3
   },
   "file_extension": ".py",
   "mimetype": "text/x-python",
   "name": "python",
   "nbconvert_exporter": "python",
   "pygments_lexer": "ipython3",
   "version": "3.6.1"
  }
 },
 "nbformat": 4,
 "nbformat_minor": 2
}
