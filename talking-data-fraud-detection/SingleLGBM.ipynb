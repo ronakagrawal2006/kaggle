{
 "cells": [
  {
   "cell_type": "code",
   "execution_count": 11,
   "metadata": {},
   "outputs": [],
   "source": [
    "#CONSTANTS\n",
    "VALIDATE = True\n",
    "\n",
    "MAX_ROUNDS = 500\n",
    "EARLY_STOP = 50\n",
    "OPT_ROUNDS = 500"
   ]
  },
  {
   "cell_type": "code",
   "execution_count": 15,
   "metadata": {},
   "outputs": [],
   "source": [
    "#IMPORTS\n",
    "import pandas as pd\n",
    "import time\n",
    "import numpy as np\n",
    "from sklearn.model_selection import train_test_split \n",
    "import lightgbm as lgb\n",
    "import gc\n"
   ]
  },
  {
   "cell_type": "code",
   "execution_count": 13,
   "metadata": {},
   "outputs": [],
   "source": [
    "\n"
   ]
  },
  {
   "cell_type": "code",
   "execution_count": null,
   "metadata": {},
   "outputs": [],
   "source": []
  },
  {
   "cell_type": "code",
   "execution_count": 18,
   "metadata": {},
   "outputs": [
    {
     "name": "stdout",
     "output_type": "stream",
     "text": [
      "750000\n"
     ]
    },
    {
     "data": {
      "text/plain": [
       "0"
      ]
     },
     "execution_count": 18,
     "metadata": {},
     "output_type": "execute_result"
    }
   ],
   "source": [
    "len_train = len(train_df)\n",
    "print(len_train)\n",
    "gc.collect()"
   ]
  },
  {
   "cell_type": "code",
   "execution_count": 7,
   "metadata": {},
   "outputs": [
    {
     "name": "stdout",
     "output_type": "stream",
     "text": [
      "750000\n",
      "data prep...\n"
     ]
    }
   ],
   "source": [
    "# data_prep\n"
   ]
  },
  {
   "cell_type": "code",
   "execution_count": 8,
   "metadata": {},
   "outputs": [],
   "source": []
  },
  {
   "cell_type": "code",
   "execution_count": 9,
   "metadata": {},
   "outputs": [
    {
     "name": "stdout",
     "output_type": "stream",
     "text": [
      "Train info before: \n",
      "<class 'pandas.core.frame.DataFrame'>\n",
      "RangeIndex: 750000 entries, 0 to 749999\n",
      "Data columns (total 7 columns):\n",
      "ip               750000 non-null uint32\n",
      "app              750000 non-null uint16\n",
      "device           750000 non-null uint16\n",
      "os               750000 non-null uint16\n",
      "channel          750000 non-null uint16\n",
      "click_time       750000 non-null object\n",
      "is_attributed    750000 non-null uint8\n",
      "dtypes: object(1), uint16(4), uint32(1), uint8(1)\n",
      "memory usage: 15.0+ MB\n",
      "None\n",
      "<class 'pandas.core.frame.DataFrame'>\n",
      "RangeIndex: 750000 entries, 0 to 749999\n",
      "Data columns (total 9 columns):\n",
      "ip               750000 non-null uint32\n",
      "app              750000 non-null uint16\n",
      "device           750000 non-null uint16\n",
      "os               750000 non-null uint16\n",
      "channel          750000 non-null uint16\n",
      "is_attributed    750000 non-null uint8\n",
      "hour             750000 non-null uint8\n",
      "day              750000 non-null uint8\n",
      "in_test_hh       750000 non-null uint8\n",
      "dtypes: uint16(4), uint32(1), uint8(4)\n",
      "memory usage: 11.4 MB\n",
      "None\n",
      "<class 'pandas.core.frame.DataFrame'>\n",
      "RangeIndex: 750000 entries, 0 to 749999\n",
      "Data columns (total 7 columns):\n",
      "app              750000 non-null uint16\n",
      "device           750000 non-null uint16\n",
      "os               750000 non-null uint16\n",
      "channel          750000 non-null uint16\n",
      "is_attributed    750000 non-null uint8\n",
      "hour             750000 non-null uint8\n",
      "in_test_hh       750000 non-null uint8\n",
      "dtypes: uint16(4), uint8(3)\n",
      "memory usage: 7.9 MB\n",
      "None\n",
      "Train info after: \n",
      "<class 'pandas.core.frame.DataFrame'>\n",
      "RangeIndex: 750000 entries, 0 to 749999\n",
      "Data columns (total 7 columns):\n",
      "app              750000 non-null uint16\n",
      "device           750000 non-null uint16\n",
      "os               750000 non-null uint16\n",
      "channel          750000 non-null uint16\n",
      "is_attributed    750000 non-null uint8\n",
      "hour             750000 non-null uint8\n",
      "in_test_hh       750000 non-null uint8\n",
      "dtypes: uint16(4), uint8(3)\n",
      "memory usage: 7.9 MB\n",
      "None\n"
     ]
    }
   ],
   "source": [
    "\n"
   ]
  },
  {
   "cell_type": "code",
   "execution_count": 23,
   "metadata": {},
   "outputs": [
    {
     "name": "stdout",
     "output_type": "stream",
     "text": [
      "vars and data type: \n",
      "<class 'pandas.core.frame.DataFrame'>\n",
      "RangeIndex: 750000 entries, 0 to 749999\n",
      "Data columns (total 7 columns):\n",
      "app              750000 non-null uint16\n",
      "device           750000 non-null uint16\n",
      "os               750000 non-null uint16\n",
      "channel          750000 non-null uint16\n",
      "is_attributed    750000 non-null uint8\n",
      "hour             750000 non-null uint8\n",
      "in_test_hh       750000 non-null uint8\n",
      "dtypes: uint16(4), uint8(3)\n",
      "memory usage: 7.9 MB\n"
     ]
    }
   ],
   "source": [
    "print(\"vars and data type: \")\n",
    "train_df.info()"
   ]
  },
  {
   "cell_type": "code",
   "execution_count": 33,
   "metadata": {},
   "outputs": [
    {
     "name": "stdout",
     "output_type": "stream",
     "text": [
      "        app  device  os  channel  is_attributed  hour  in_test_hh\n",
      "425729   12       1  19      259              0    12           3\n",
      "447007    9       1  17      334              0    12           3\n",
      "25761     3       1  13      280              0    12           3\n",
      "471245   27       1   8      153              0    12           3\n",
      "269745   18       1   6      107              0    12           3\n"
     ]
    }
   ],
   "source": [
    "print(train_df.head(5))\n"
   ]
  },
  {
   "cell_type": "code",
   "execution_count": 34,
   "metadata": {},
   "outputs": [
    {
     "name": "stdout",
     "output_type": "stream",
     "text": [
      "<class 'pandas.core.frame.DataFrame'>\n",
      "Int64Index: 643031 entries, 333285 to 686020\n",
      "Data columns (total 7 columns):\n",
      "app              643031 non-null uint16\n",
      "device           643031 non-null uint16\n",
      "os               643031 non-null uint16\n",
      "channel          643031 non-null uint16\n",
      "is_attributed    643031 non-null uint8\n",
      "hour             643031 non-null uint8\n",
      "in_test_hh       643031 non-null uint8\n",
      "dtypes: uint16(4), uint8(3)\n",
      "memory usage: 11.7 MB\n",
      "None\n",
      "<class 'pandas.core.frame.DataFrame'>\n",
      "Int64Index: 33844 entries, 436733 to 187041\n",
      "Data columns (total 7 columns):\n",
      "app              33844 non-null uint16\n",
      "device           33844 non-null uint16\n",
      "os               33844 non-null uint16\n",
      "channel          33844 non-null uint16\n",
      "is_attributed    33844 non-null uint8\n",
      "hour             33844 non-null uint8\n",
      "in_test_hh       33844 non-null uint8\n",
      "dtypes: uint16(4), uint8(3)\n",
      "memory usage: 628.0 KB\n",
      "None\n",
      "train size:  643031\n",
      "valid size:  33844\n"
     ]
    },
    {
     "name": "stderr",
     "output_type": "stream",
     "text": [
      "/Users/aronak/miniconda3/envs/ml_3_6/lib/python3.5/site-packages/sklearn/model_selection/_split.py:2026: FutureWarning: From version 0.21, test_size will always complement train_size unless both are specified.\n",
      "  FutureWarning)\n"
     ]
    },
    {
     "data": {
      "text/plain": [
       "484"
      ]
     },
     "execution_count": 34,
     "metadata": {},
     "output_type": "execute_result"
    },
    {
     "name": "stdout",
     "output_type": "stream",
     "text": [
      "Training...\n"
     ]
    },
    {
     "data": {
      "text/plain": [
       "81"
      ]
     },
     "execution_count": 34,
     "metadata": {},
     "output_type": "execute_result"
    },
    {
     "data": {
      "text/plain": [
       "81"
      ]
     },
     "execution_count": 34,
     "metadata": {},
     "output_type": "execute_result"
    },
    {
     "name": "stderr",
     "output_type": "stream",
     "text": [
      "/Users/aronak/miniconda3/envs/ml_3_6/lib/python3.5/site-packages/lightgbm/basic.py:1036: UserWarning: Using categorical_feature in Dataset.\n",
      "  warnings.warn('Using categorical_feature in Dataset.')\n",
      "/Users/aronak/miniconda3/envs/ml_3_6/lib/python3.5/site-packages/lightgbm/basic.py:681: UserWarning: categorical_feature in param dict is overrided.\n",
      "  warnings.warn('categorical_feature in param dict is overrided.')\n"
     ]
    },
    {
     "name": "stdout",
     "output_type": "stream",
     "text": [
      "Training until validation scores don't improve for 50 rounds.\n",
      "[10]\ttrain's auc: 0.970178\tvalid's auc: 0.967905\n",
      "[20]\ttrain's auc: 0.971495\tvalid's auc: 0.970504\n",
      "[30]\ttrain's auc: 0.974873\tvalid's auc: 0.974847\n",
      "[40]\ttrain's auc: 0.977151\tvalid's auc: 0.978299\n",
      "[50]\ttrain's auc: 0.978551\tvalid's auc: 0.980056\n",
      "[60]\ttrain's auc: 0.98015\tvalid's auc: 0.98149\n",
      "[70]\ttrain's auc: 0.981723\tvalid's auc: 0.982113\n",
      "[80]\ttrain's auc: 0.982743\tvalid's auc: 0.983076\n",
      "[90]\ttrain's auc: 0.983598\tvalid's auc: 0.983148\n",
      "[100]\ttrain's auc: 0.984212\tvalid's auc: 0.984482\n",
      "[110]\ttrain's auc: 0.984871\tvalid's auc: 0.983569\n",
      "[120]\ttrain's auc: 0.985422\tvalid's auc: 0.98426\n",
      "[130]\ttrain's auc: 0.98584\tvalid's auc: 0.984353\n",
      "[140]\ttrain's auc: 0.986293\tvalid's auc: 0.983904\n",
      "[150]\ttrain's auc: 0.98664\tvalid's auc: 0.983338\n",
      "[160]\ttrain's auc: 0.986791\tvalid's auc: 0.983605\n",
      "[170]\ttrain's auc: 0.986844\tvalid's auc: 0.98362\n",
      "Early stopping, best iteration is:\n",
      "[126]\ttrain's auc: 0.985651\tvalid's auc: 0.98498\n",
      "\n",
      "Model Report\n",
      "n_estimators :  126\n",
      "auc: 0.984979582769\n"
     ]
    }
   ],
   "source": []
  },
  {
   "cell_type": "code",
   "execution_count": null,
   "metadata": {},
   "outputs": [],
   "source": []
  }
 ],
 "metadata": {
  "kernelspec": {
   "display_name": "Python 3",
   "language": "python",
   "name": "python3"
  },
  "language_info": {
   "codemirror_mode": {
    "name": "ipython",
    "version": 3
   },
   "file_extension": ".py",
   "mimetype": "text/x-python",
   "name": "python",
   "nbconvert_exporter": "python",
   "pygments_lexer": "ipython3",
   "version": "3.6.1"
  }
 },
 "nbformat": 4,
 "nbformat_minor": 2
}
