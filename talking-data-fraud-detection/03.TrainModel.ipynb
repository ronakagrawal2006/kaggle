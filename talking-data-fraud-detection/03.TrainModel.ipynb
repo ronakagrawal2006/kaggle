{
 "cells": [
  {
   "cell_type": "code",
   "execution_count": 7,
   "metadata": {},
   "outputs": [],
   "source": [
    "#Constants:\n",
    "c_train_df_prep_file='train_df_prep_file.pkl'\n",
    "c_bst_file='bst.pkl'\n",
    "c_accuracy='c_accuracy.csv'"
   ]
  },
  {
   "cell_type": "code",
   "execution_count": 8,
   "metadata": {},
   "outputs": [],
   "source": [
    "import pandas as pd\n",
    "from sklearn.model_selection import train_test_split \n",
    "import lightgbm as lgb\n",
    "import gc"
   ]
  },
  {
   "cell_type": "code",
   "execution_count": 9,
   "metadata": {},
   "outputs": [],
   "source": [
    "metrics = 'auc'"
   ]
  },
  {
   "cell_type": "code",
   "execution_count": 15,
   "metadata": {},
   "outputs": [],
   "source": [
    "lgb_params = {\n",
    "        'boosting_type': 'gbdt',\n",
    "        'objective': 'binary',\n",
    "        'metric':metrics,\n",
    "        'learning_rate': 0.1,\n",
    "        'num_leaves': 7,  # we should let it be smaller than 2^(max_depth)\n",
    "        'max_depth': 4,  # -1 means no limit\n",
    "        'min_child_samples': 100,  # Minimum number of data need in a child(min_data_in_leaf)\n",
    "        'max_bin': 100,  # Number of bucketed bin for feature values\n",
    "        'subsample': 0.7,  # Subsample ratio of the training instance.\n",
    "        'subsample_freq': 1,  # frequence of subsample, <=0 means no enable\n",
    "        'colsample_bytree': 0.7,  # Subsample ratio of columns when constructing each tree.\n",
    "        'min_child_weight': 0,  # Minimum sum of instance weight(hessian) needed in a child(leaf)\n",
    "        'min_split_gain': 0,  # lambda_l1, lambda_l2 and min_gain_to_split to regularization\n",
    "        'nthread': 4,\n",
    "        'verbose': 0,\n",
    "        'scale_pos_weight':99.7, # because training data is extremely unbalanced \n",
    "#         'metric':metrics\n",
    "}\n",
    "target = 'is_attributed'\n",
    "predictors = ['app','device','os', 'channel', 'hour','nip_day_test_hh', 'nip_day_hh',\n",
    "              'nip_hh_os', 'nip_hh_app', 'nip_hh_dev']\n",
    "categorical = ['app', 'device', 'os', 'channel', 'hour']"
   ]
  },
  {
   "cell_type": "code",
   "execution_count": 27,
   "metadata": {},
   "outputs": [
    {
     "name": "stdout",
     "output_type": "stream",
     "text": [
      "<class 'pandas.core.frame.DataFrame'>\n",
      "Int64Index: 712500 entries, 0 to 712499\n",
      "Data columns (total 11 columns):\n",
      "app                712500 non-null uint16\n",
      "device             712500 non-null uint16\n",
      "os                 712500 non-null uint16\n",
      "channel            712500 non-null uint16\n",
      "is_attributed      712500 non-null uint8\n",
      "hour               712500 non-null uint8\n",
      "nip_day_test_hh    712500 non-null uint32\n",
      "nip_day_hh         712500 non-null uint16\n",
      "nip_hh_os          712500 non-null uint16\n",
      "nip_hh_app         712500 non-null uint16\n",
      "nip_hh_dev         712500 non-null uint32\n",
      "dtypes: uint16(7), uint32(2), uint8(2)\n",
      "memory usage: 21.7 MB\n",
      "None\n",
      "<class 'pandas.core.frame.DataFrame'>\n",
      "Int64Index: 37500 entries, 712500 to 749999\n",
      "Data columns (total 11 columns):\n",
      "app                37500 non-null uint16\n",
      "device             37500 non-null uint16\n",
      "os                 37500 non-null uint16\n",
      "channel            37500 non-null uint16\n",
      "is_attributed      37500 non-null uint8\n",
      "hour               37500 non-null uint8\n",
      "nip_day_test_hh    37500 non-null uint32\n",
      "nip_day_hh         37500 non-null uint16\n",
      "nip_hh_os          37500 non-null uint16\n",
      "nip_hh_app         37500 non-null uint16\n",
      "nip_hh_dev         37500 non-null uint32\n",
      "dtypes: uint16(7), uint32(2), uint8(2)\n",
      "memory usage: 1.1 MB\n",
      "None\n",
      "train size:  712500\n",
      "valid size:  37500\n"
     ]
    },
    {
     "name": "stderr",
     "output_type": "stream",
     "text": [
      "/home/ubuntu/anaconda3/envs/dog-project/lib/python3.6/site-packages/sklearn/model_selection/_split.py:2026: FutureWarning: From version 0.21, test_size will always complement train_size unless both are specified.\n",
      "  FutureWarning)\n"
     ]
    },
    {
     "data": {
      "text/plain": [
       "327"
      ]
     },
     "execution_count": 27,
     "metadata": {},
     "output_type": "execute_result"
    }
   ],
   "source": [
    "train_df_prep=pd.read_pickle(c_train_df_prep_file)\n",
    "train_df, val_df = train_test_split( train_df_prep, train_size=.95, random_state=99, shuffle=False )\n",
    " \n",
    "print(train_df.info())\n",
    "print(val_df.info())\n",
    "\n",
    "print(\"train size: \", len(train_df))\n",
    "print(\"valid size: \", len(val_df))\n",
    "del train_df_prep\n",
    "gc.collect()"
   ]
  },
  {
   "cell_type": "code",
   "execution_count": 29,
   "metadata": {},
   "outputs": [
    {
     "name": "stdout",
     "output_type": "stream",
     "text": [
      "Training...\n",
      "done...\n"
     ]
    }
   ],
   "source": [
    "VALIDATE = True\n",
    "MAX_ROUNDS = 500\n",
    "EARLY_STOP = 50\n",
    "OPT_ROUNDS = 500\n",
    "print(\"Training...\")\n",
    "\n",
    "num_boost_round=MAX_ROUNDS\n",
    "early_stopping_rounds=EARLY_STOP\n",
    "\n",
    "xgtrain = lgb.Dataset(train_df[predictors].values, label=train_df[target].values,\n",
    "                      feature_name=predictors,\n",
    "                      categorical_feature=categorical\n",
    "                      )\n",
    "del train_df\n",
    "gc.collect()\n",
    "print('done...')"
   ]
  },
  {
   "cell_type": "code",
   "execution_count": null,
   "metadata": {},
   "outputs": [],
   "source": []
  },
  {
   "cell_type": "code",
   "execution_count": 30,
   "metadata": {},
   "outputs": [
    {
     "data": {
      "text/plain": [
       "124"
      ]
     },
     "execution_count": 30,
     "metadata": {},
     "output_type": "execute_result"
    }
   ],
   "source": [
    "xgvalid = lgb.Dataset(val_df[predictors].values, label=val_df[target].values,\n",
    "                      feature_name=predictors,\n",
    "                      categorical_feature=categorical\n",
    "                      )\n",
    "del val_df\n",
    "gc.collect()"
   ]
  },
  {
   "cell_type": "code",
   "execution_count": 31,
   "metadata": {},
   "outputs": [
    {
     "data": {
      "text/plain": [
       "{'boosting_type': 'gbdt',\n",
       " 'objective': 'binary',\n",
       " 'metric': 'auc',\n",
       " 'learning_rate': 0.1,\n",
       " 'num_leaves': 7,\n",
       " 'max_depth': 4,\n",
       " 'min_child_samples': 100,\n",
       " 'max_bin': 100,\n",
       " 'subsample': 0.7,\n",
       " 'subsample_freq': 1,\n",
       " 'colsample_bytree': 0.7,\n",
       " 'min_child_weight': 0,\n",
       " 'min_split_gain': 0,\n",
       " 'nthread': 4,\n",
       " 'verbose': 0,\n",
       " 'scale_pos_weight': 99.7,\n",
       " 'categorical_column': [0, 1, 2, 3, 4]}"
      ]
     },
     "execution_count": 31,
     "metadata": {},
     "output_type": "execute_result"
    }
   ],
   "source": [
    "lgb_params"
   ]
  },
  {
   "cell_type": "code",
   "execution_count": 32,
   "metadata": {},
   "outputs": [
    {
     "name": "stderr",
     "output_type": "stream",
     "text": [
      "/home/ubuntu/anaconda3/envs/dog-project/lib/python3.6/site-packages/lightgbm/basic.py:1036: UserWarning: Using categorical_feature in Dataset.\n",
      "  warnings.warn('Using categorical_feature in Dataset.')\n",
      "/home/ubuntu/anaconda3/envs/dog-project/lib/python3.6/site-packages/lightgbm/basic.py:681: UserWarning: categorical_feature in param dict is overrided.\n",
      "  warnings.warn('categorical_feature in param dict is overrided.')\n"
     ]
    },
    {
     "name": "stdout",
     "output_type": "stream",
     "text": [
      "Training until validation scores don't improve for 50 rounds.\n",
      "[10]\ttrain's auc: 0.970496\tvalid's auc: 0.961434\n",
      "[20]\ttrain's auc: 0.975601\tvalid's auc: 0.960874\n",
      "[30]\ttrain's auc: 0.978572\tvalid's auc: 0.962068\n",
      "[40]\ttrain's auc: 0.98129\tvalid's auc: 0.962279\n",
      "[50]\ttrain's auc: 0.983788\tvalid's auc: 0.964676\n",
      "[60]\ttrain's auc: 0.985521\tvalid's auc: 0.967716\n",
      "[70]\ttrain's auc: 0.986827\tvalid's auc: 0.966594\n",
      "[80]\ttrain's auc: 0.987946\tvalid's auc: 0.965048\n",
      "[90]\ttrain's auc: 0.988874\tvalid's auc: 0.965555\n",
      "[100]\ttrain's auc: 0.98973\tvalid's auc: 0.96565\n",
      "[110]\ttrain's auc: 0.990632\tvalid's auc: 0.964636\n",
      "Early stopping, best iteration is:\n",
      "[61]\ttrain's auc: 0.985568\tvalid's auc: 0.96775\n",
      "\n",
      "Model Report\n",
      "n_estimators :  61\n"
     ]
    }
   ],
   "source": [
    "evals_results = {}\n",
    "bst = lgb.train(lgb_params, \n",
    "                 xgtrain, \n",
    "                 valid_sets=[xgtrain, xgvalid], \n",
    "                 valid_names=['train','valid'], \n",
    "                 evals_result=evals_results, \n",
    "                 num_boost_round=num_boost_round,\n",
    "                 early_stopping_rounds=early_stopping_rounds,\n",
    "                 verbose_eval=10, \n",
    "                 feval=None)\n",
    "\n",
    "n_estimators = bst.best_iteration\n",
    "bst.save_model(c_bst_file)\n",
    "print(\"\\nModel Report\")\n",
    "print(\"n_estimators : \", n_estimators)\n",
    "# print(metrics+\":\", evals_results['valid'][metrics][n_estimators-1])\n",
    "del xgvalid"
   ]
  },
  {
   "cell_type": "code",
   "execution_count": 21,
   "metadata": {},
   "outputs": [
    {
     "data": {
      "text/plain": [
       "0.96774997679886854"
      ]
     },
     "execution_count": 21,
     "metadata": {},
     "output_type": "execute_result"
    }
   ],
   "source": [
    "evals_results['valid'][metrics][n_estimators-1]"
   ]
  },
  {
   "cell_type": "code",
   "execution_count": 22,
   "metadata": {},
   "outputs": [],
   "source": [
    "\n",
    "import datetime\n",
    "date_time=datetime.datetime.now()\n",
    "train_acc=evals_results['train']['auc'][n_estimators-1]\n",
    "valid_acc=evals_results['valid']['auc'][n_estimators-1]\n",
    "bst_iter=n_estimators\n",
    "comment='Trained with all data, 5 features from andys'"
   ]
  },
  {
   "cell_type": "code",
   "execution_count": 24,
   "metadata": {},
   "outputs": [
    {
     "data": {
      "text/html": [
       "<div>\n",
       "<style scoped>\n",
       "    .dataframe tbody tr th:only-of-type {\n",
       "        vertical-align: middle;\n",
       "    }\n",
       "\n",
       "    .dataframe tbody tr th {\n",
       "        vertical-align: top;\n",
       "    }\n",
       "\n",
       "    .dataframe thead th {\n",
       "        text-align: right;\n",
       "    }\n",
       "</style>\n",
       "<table border=\"1\" class=\"dataframe\">\n",
       "  <thead>\n",
       "    <tr style=\"text-align: right;\">\n",
       "      <th></th>\n",
       "      <th>date_time</th>\n",
       "      <th>train_acc</th>\n",
       "      <th>valid_acc</th>\n",
       "      <th>best_iter</th>\n",
       "      <th>comment</th>\n",
       "    </tr>\n",
       "  </thead>\n",
       "  <tbody>\n",
       "    <tr>\n",
       "      <th>0</th>\n",
       "      <td>2018-04-09 13:53:44.416075</td>\n",
       "      <td>0.985568</td>\n",
       "      <td>0.96775</td>\n",
       "      <td>61</td>\n",
       "      <td>Trained with all data, 5 features from andys</td>\n",
       "    </tr>\n",
       "  </tbody>\n",
       "</table>\n",
       "</div>"
      ],
      "text/plain": [
       "                   date_time  train_acc  valid_acc  best_iter  \\\n",
       "0 2018-04-09 13:53:44.416075   0.985568    0.96775         61   \n",
       "\n",
       "                                        comment  \n",
       "0  Trained with all data, 5 features from andys  "
      ]
     },
     "execution_count": 24,
     "metadata": {},
     "output_type": "execute_result"
    }
   ],
   "source": [
    "#prepare metrics and see\n",
    "col_list=['date_time','train_acc','valid_acc','best_iter','comment']\n",
    "curr_data=pd.DataFrame([[date_time,train_acc,valid_acc,bst_iter,comment]], columns=col_list)\n",
    "curr_data.head()"
   ]
  },
  {
   "cell_type": "code",
   "execution_count": 25,
   "metadata": {},
   "outputs": [
    {
     "data": {
      "text/html": [
       "<div>\n",
       "<style scoped>\n",
       "    .dataframe tbody tr th:only-of-type {\n",
       "        vertical-align: middle;\n",
       "    }\n",
       "\n",
       "    .dataframe tbody tr th {\n",
       "        vertical-align: top;\n",
       "    }\n",
       "\n",
       "    .dataframe thead th {\n",
       "        text-align: right;\n",
       "    }\n",
       "</style>\n",
       "<table border=\"1\" class=\"dataframe\">\n",
       "  <thead>\n",
       "    <tr style=\"text-align: right;\">\n",
       "      <th></th>\n",
       "      <th>date_time</th>\n",
       "      <th>train_acc</th>\n",
       "      <th>valid_acc</th>\n",
       "      <th>best_iter</th>\n",
       "      <th>comment</th>\n",
       "    </tr>\n",
       "  </thead>\n",
       "  <tbody>\n",
       "    <tr>\n",
       "      <th>0</th>\n",
       "      <td>2018-04-09 13:53:44.416075</td>\n",
       "      <td>0.985568</td>\n",
       "      <td>0.96775</td>\n",
       "      <td>61</td>\n",
       "      <td>Trained with all data, 5 features from andys</td>\n",
       "    </tr>\n",
       "  </tbody>\n",
       "</table>\n",
       "</div>"
      ],
      "text/plain": [
       "                   date_time  train_acc  valid_acc  best_iter  \\\n",
       "0 2018-04-09 13:53:44.416075   0.985568    0.96775         61   \n",
       "\n",
       "                                        comment  \n",
       "0  Trained with all data, 5 features from andys  "
      ]
     },
     "execution_count": 25,
     "metadata": {},
     "output_type": "execute_result"
    }
   ],
   "source": [
    "ADD to records\n",
    "add_to_records=False\n",
    "log=pd.read_csv(c_accuracy)\n",
    "log.head()\n",
    "if(add_to_records):\n",
    "    log.append(curr_data)\n",
    "    print('records updated')\n",
    "    log.head()\n",
    "    log.to_csv(c_accuracy,index=False)\n",
    "gc.collect()\n",
    "#resetCSV\n",
    "# curr_data.to_csv(c_accuracy,index=False)\n",
    "# curr_data.head()"
   ]
  },
  {
   "cell_type": "code",
   "execution_count": null,
   "metadata": {},
   "outputs": [],
   "source": []
  }
 ],
 "metadata": {
  "kernelspec": {
   "display_name": "Python 3",
   "language": "python",
   "name": "python3"
  },
  "language_info": {
   "codemirror_mode": {
    "name": "ipython",
    "version": 3
   },
   "file_extension": ".py",
   "mimetype": "text/x-python",
   "name": "python",
   "nbconvert_exporter": "python",
   "pygments_lexer": "ipython3",
   "version": "3.6.1"
  }
 },
 "nbformat": 4,
 "nbformat_minor": 2
}
