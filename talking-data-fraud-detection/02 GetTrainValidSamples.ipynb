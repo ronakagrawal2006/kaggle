{
 "cells": [
  {
   "cell_type": "code",
   "execution_count": 1,
   "metadata": {},
   "outputs": [],
   "source": [
    "#sample files\n",
    "#INPUT\n",
    "TRAIN_SAMPLE='eda/input/train_sample.csv'\n",
    "#OUTPUT\n",
    "#train_sample_in eda/input"
   ]
  },
  {
   "cell_type": "code",
   "execution_count": 2,
   "metadata": {},
   "outputs": [],
   "source": [
    "import pandas as pd"
   ]
  },
  {
   "cell_type": "code",
   "execution_count": 16,
   "metadata": {},
   "outputs": [],
   "source": [
    "import datetime\n",
    "TRAIN_HOURS_END = datetime.datetime(2017, 11, 8, 16, 0, 0)\n",
    "VALID_HOURS_START = datetime.datetime(2017, 11, 9, 4, 0, 0)\n",
    "VALID_HOURS_END = datetime.datetime(2017, 11, 9, 15, 0, 0)\n",
    "test_hours=[ 4,  5,  6,  9, 10, 11, 13, 14, 15]\n",
    "comment='_valid_hr_is_test_hr'\n",
    "def get_train_valid_from_specific_hours(df):\n",
    "    df_train_sample= df[df.click_time<=TRAIN_HOURS_END]\n",
    "    df_valid_sample=df[(df.click_time>=VALID_HOURS_START) & (df.click_time<=VALID_HOURS_END)]\n",
    "    df_valid_sample=df_valid_sample[df_valid_sample.hour.isin(test_hours)]\n",
    "    return df_train_sample,df_valid_sample"
   ]
  },
  {
   "cell_type": "code",
   "execution_count": 23,
   "metadata": {},
   "outputs": [],
   "source": [
    "def get_specific_hours_filepath(file):\n",
    "    return file.replace('sample','specific_hours_sample'+comment)\n",
    "def validation_file(file):\n",
    "    return file.replace('train','valid')"
   ]
  },
  {
   "cell_type": "code",
   "execution_count": 18,
   "metadata": {},
   "outputs": [],
   "source": [
    "def get_sample(file):\n",
    "    df=pd.read_csv(file,parse_dates=['click_time','attributed_time','click_date'])\n",
    "    df_train_sample,df_valid_sample=get_train_valid_from_specific_hours(df)\n",
    "    df_train_sample.to_csv(get_specific_hours_filepath(file),index=False)\n",
    "    df_valid_sample.to_csv(get_specific_hours_filepath(validation_file(file)),index=False)\n",
    "    return get_specific_hours_filepath(file), get_specific_hours_filepath(validation_file(file))"
   ]
  },
  {
   "cell_type": "code",
   "execution_count": 19,
   "metadata": {},
   "outputs": [
    {
     "name": "stdout",
     "output_type": "stream",
     "text": [
      "done:  eda/input/train_specific_hours_sampletest_hours.csv eda/input/valid_specific_hours_sampletest_hours.csv\n"
     ]
    }
   ],
   "source": [
    "file=TRAIN_SAMPLE\n",
    "train_sample,valid_sample=get_sample(file)\n",
    "print('done: ',train_sample,valid_sample)"
   ]
  },
  {
   "cell_type": "code",
   "execution_count": null,
   "metadata": {},
   "outputs": [],
   "source": []
  }
 ],
 "metadata": {
  "kernelspec": {
   "display_name": "Python 3",
   "language": "python",
   "name": "python3"
  },
  "language_info": {
   "codemirror_mode": {
    "name": "ipython",
    "version": 3
   },
   "file_extension": ".py",
   "mimetype": "text/x-python",
   "name": "python",
   "nbconvert_exporter": "python",
   "pygments_lexer": "ipython3",
   "version": "3.5.4"
  }
 },
 "nbformat": 4,
 "nbformat_minor": 2
}
