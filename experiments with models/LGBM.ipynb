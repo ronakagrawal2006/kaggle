{
 "cells": [
  {
   "cell_type": "code",
   "execution_count": 2,
   "metadata": {},
   "outputs": [],
   "source": [
    "import numpy as np\n",
    "np.random.seed(10)\n",
    "\n",
    "import matplotlib.pyplot as plt\n",
    "\n",
    "from sklearn.datasets import make_classification\n",
    "from sklearn.linear_model import LogisticRegression\n",
    "from sklearn.model_selection import train_test_split\n",
    "from sklearn.metrics import roc_curve\n",
    "from sklearn.pipeline import make_pipeline\n"
   ]
  },
  {
   "cell_type": "code",
   "execution_count": 3,
   "metadata": {},
   "outputs": [],
   "source": [
    "n_estimator = 10\n",
    "X, y = make_classification(n_samples=80)\n",
    "X_train, X_test, y_train, y_test = train_test_split(X, y, test_size=0.5)"
   ]
  },
  {
   "cell_type": "code",
   "execution_count": 6,
   "metadata": {},
   "outputs": [
    {
     "data": {
      "text/plain": [
       "array([[-0.84840455, -1.00895677,  0.33655386,  0.27297856,  0.13482013,\n",
       "         0.26448132,  0.16126021, -0.08028058, -0.14659018,  0.26985338,\n",
       "         0.8065076 ,  0.17590957, -0.88236454, -0.15706725,  0.74446342,\n",
       "        -1.12107354, -0.29589794,  0.8863568 , -1.49421964, -0.53655427],\n",
       "       [-0.11955298,  0.79223948,  1.66383317, -0.15097705, -0.66375092,\n",
       "        -1.44530511, -1.74673584,  0.12464616, -0.79110195, -1.20097861,\n",
       "         0.01792319, -0.54251716, -0.1983205 ,  0.8461851 ,  1.28157384,\n",
       "         1.27182062, -0.66423733, -0.1522068 , -0.07660501, -0.19410253],\n",
       "       [ 0.30866767, -1.26981959, -2.66288657, -0.8355085 ,  1.21718156,\n",
       "         1.17080353, -1.14881226, -0.97019782,  0.32338993,  0.89256403,\n",
       "         0.21045073,  0.28226751,  1.01398463,  0.0110227 ,  0.18264738,\n",
       "         2.31912732,  0.26439469, -1.6379191 ,  0.88577486, -0.16407529],\n",
       "       [-1.02514204,  1.19860183, -0.49727998, -0.34334525,  0.66139496,\n",
       "         1.98499239, -1.9219949 , -0.07993524, -0.30878081,  0.41961402,\n",
       "        -0.54036433,  0.95882782,  1.04516951, -0.31533228,  0.62338841,\n",
       "        -1.06270672,  0.45104621,  2.60344084,  0.97016799, -1.51779623],\n",
       "       [ 0.78485573, -1.01684926, -0.81445488,  0.04874271, -1.05849849,\n",
       "         1.09851064, -0.11979477, -1.14653188,  0.48559977, -0.74148923,\n",
       "        -1.09017858,  0.46615654, -0.28563565,  0.79374125,  1.37679834,\n",
       "         1.04289171, -0.1035635 ,  0.71855598, -1.6840774 ,  0.15687211]])"
      ]
     },
     "execution_count": 6,
     "metadata": {},
     "output_type": "execute_result"
    }
   ],
   "source": []
  },
  {
   "cell_type": "code",
   "execution_count": null,
   "metadata": {},
   "outputs": [],
   "source": []
  }
 ],
 "metadata": {
  "kernelspec": {
   "display_name": "Python 3",
   "language": "python",
   "name": "python3"
  },
  "language_info": {
   "codemirror_mode": {
    "name": "ipython",
    "version": 3
   },
   "file_extension": ".py",
   "mimetype": "text/x-python",
   "name": "python",
   "nbconvert_exporter": "python",
   "pygments_lexer": "ipython3",
   "version": "3.5.4"
  }
 },
 "nbformat": 4,
 "nbformat_minor": 2
}
